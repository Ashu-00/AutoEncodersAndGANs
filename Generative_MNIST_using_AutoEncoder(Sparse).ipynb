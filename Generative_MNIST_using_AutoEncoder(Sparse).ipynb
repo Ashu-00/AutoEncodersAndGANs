{
  "nbformat": 4,
  "nbformat_minor": 0,
  "metadata": {
    "colab": {
      "provenance": [],
      "authorship_tag": "ABX9TyMYhoCSedvrTLhgdrTGiZFl",
      "include_colab_link": true
    },
    "kernelspec": {
      "name": "python3",
      "display_name": "Python 3"
    },
    "language_info": {
      "name": "python"
    }
  },
  "cells": [
    {
      "cell_type": "markdown",
      "metadata": {
        "id": "view-in-github",
        "colab_type": "text"
      },
      "source": [
        "<a href=\"https://colab.research.google.com/github/Ashu-00/AutoEncodersAndGenerators/blob/main/Generative_MNIST_using_AutoEncoder(Sparse).ipynb\" target=\"_parent\"><img src=\"https://colab.research.google.com/assets/colab-badge.svg\" alt=\"Open In Colab\"/></a>"
      ]
    },
    {
      "cell_type": "code",
      "execution_count": null,
      "metadata": {
        "id": "1-jIrHUwxq3Z"
      },
      "outputs": [],
      "source": [
        "import torch\n",
        "import torch.nn as nn\n",
        "import torch.nn.functional as F\n",
        "import torch.optim as optim\n",
        "import torchvision"
      ]
    },
    {
      "cell_type": "code",
      "source": [
        "dataset=torchvision.datasets.MNIST('data',train=True,download=True,transform=torchvision.transforms.ToTensor())"
      ],
      "metadata": {
        "colab": {
          "base_uri": "https://localhost:8080/"
        },
        "id": "TKaD4RHrxzzO",
        "outputId": "d96ce23e-efa3-431d-8882-c0241c21a131"
      },
      "execution_count": null,
      "outputs": [
        {
          "output_type": "stream",
          "name": "stdout",
          "text": [
            "Downloading http://yann.lecun.com/exdb/mnist/train-images-idx3-ubyte.gz\n",
            "Failed to download (trying next):\n",
            "HTTP Error 403: Forbidden\n",
            "\n",
            "Downloading https://ossci-datasets.s3.amazonaws.com/mnist/train-images-idx3-ubyte.gz\n",
            "Downloading https://ossci-datasets.s3.amazonaws.com/mnist/train-images-idx3-ubyte.gz to data/MNIST/raw/train-images-idx3-ubyte.gz\n"
          ]
        },
        {
          "output_type": "stream",
          "name": "stderr",
          "text": [
            "100%|██████████| 9912422/9912422 [00:00<00:00, 156981888.37it/s]\n"
          ]
        },
        {
          "output_type": "stream",
          "name": "stdout",
          "text": [
            "Extracting data/MNIST/raw/train-images-idx3-ubyte.gz to data/MNIST/raw\n",
            "\n",
            "Downloading http://yann.lecun.com/exdb/mnist/train-labels-idx1-ubyte.gz\n",
            "Failed to download (trying next):\n",
            "HTTP Error 403: Forbidden\n",
            "\n",
            "Downloading https://ossci-datasets.s3.amazonaws.com/mnist/train-labels-idx1-ubyte.gz\n",
            "Downloading https://ossci-datasets.s3.amazonaws.com/mnist/train-labels-idx1-ubyte.gz to data/MNIST/raw/train-labels-idx1-ubyte.gz\n"
          ]
        },
        {
          "output_type": "stream",
          "name": "stderr",
          "text": [
            "100%|██████████| 28881/28881 [00:00<00:00, 45031856.44it/s]\n"
          ]
        },
        {
          "output_type": "stream",
          "name": "stdout",
          "text": [
            "Extracting data/MNIST/raw/train-labels-idx1-ubyte.gz to data/MNIST/raw\n",
            "\n",
            "Downloading http://yann.lecun.com/exdb/mnist/t10k-images-idx3-ubyte.gz\n",
            "Failed to download (trying next):\n",
            "HTTP Error 403: Forbidden\n",
            "\n",
            "Downloading https://ossci-datasets.s3.amazonaws.com/mnist/t10k-images-idx3-ubyte.gz\n",
            "Downloading https://ossci-datasets.s3.amazonaws.com/mnist/t10k-images-idx3-ubyte.gz to data/MNIST/raw/t10k-images-idx3-ubyte.gz\n"
          ]
        },
        {
          "output_type": "stream",
          "name": "stderr",
          "text": [
            "100%|██████████| 1648877/1648877 [00:00<00:00, 44085925.54it/s]\n"
          ]
        },
        {
          "output_type": "stream",
          "name": "stdout",
          "text": [
            "Extracting data/MNIST/raw/t10k-images-idx3-ubyte.gz to data/MNIST/raw\n",
            "\n",
            "Downloading http://yann.lecun.com/exdb/mnist/t10k-labels-idx1-ubyte.gz\n",
            "Failed to download (trying next):\n",
            "HTTP Error 403: Forbidden\n",
            "\n",
            "Downloading https://ossci-datasets.s3.amazonaws.com/mnist/t10k-labels-idx1-ubyte.gz\n",
            "Downloading https://ossci-datasets.s3.amazonaws.com/mnist/t10k-labels-idx1-ubyte.gz to data/MNIST/raw/t10k-labels-idx1-ubyte.gz\n"
          ]
        },
        {
          "output_type": "stream",
          "name": "stderr",
          "text": [
            "100%|██████████| 4542/4542 [00:00<00:00, 10636811.15it/s]\n"
          ]
        },
        {
          "output_type": "stream",
          "name": "stdout",
          "text": [
            "Extracting data/MNIST/raw/t10k-labels-idx1-ubyte.gz to data/MNIST/raw\n",
            "\n"
          ]
        }
      ]
    },
    {
      "cell_type": "code",
      "source": [
        "dataset"
      ],
      "metadata": {
        "colab": {
          "base_uri": "https://localhost:8080/"
        },
        "id": "1L2YHhoLybbi",
        "outputId": "730f9e02-6c5f-45c6-b8a4-00680397045a"
      },
      "execution_count": null,
      "outputs": [
        {
          "output_type": "execute_result",
          "data": {
            "text/plain": [
              "Dataset MNIST\n",
              "    Number of datapoints: 60000\n",
              "    Root location: data\n",
              "    Split: Train\n",
              "    StandardTransform\n",
              "Transform: ToTensor()"
            ]
          },
          "metadata": {},
          "execution_count": 3
        }
      ]
    },
    {
      "cell_type": "code",
      "source": [
        "generator1 = torch.Generator().manual_seed(42)\n",
        "trainset,testset=torch.utils.data.random_split(dataset,[0.9,0.1],generator=generator1)"
      ],
      "metadata": {
        "id": "5I9NasoFyfIB"
      },
      "execution_count": null,
      "outputs": []
    },
    {
      "cell_type": "code",
      "source": [
        "import matplotlib.pyplot as plt\n",
        "plt.imshow(trainset[0][0].squeeze(0))"
      ],
      "metadata": {
        "colab": {
          "base_uri": "https://localhost:8080/",
          "height": 447
        },
        "id": "_eCtFpsKzq4b",
        "outputId": "c6e9f7d7-c8d8-4a5b-a56f-1ac72b6ac3da"
      },
      "execution_count": null,
      "outputs": [
        {
          "output_type": "execute_result",
          "data": {
            "text/plain": [
              "<matplotlib.image.AxesImage at 0x7e0b65a4b460>"
            ]
          },
          "metadata": {},
          "execution_count": 5
        },
        {
          "output_type": "display_data",
          "data": {
            "text/plain": [
              "<Figure size 640x480 with 1 Axes>"
            ],
            "image/png": "[encoded data removed]"
          },
          "metadata": {}
        }
      ]
    },
    {
      "cell_type": "code",
      "source": [
        "class SparseAE(nn.Module):\n",
        "  def __init__(self):\n",
        "    super().__init__()\n",
        "\n",
        "    self.enc1 = nn.Conv2d(1,8,3,stride=1)\n",
        "    self.enc2 = nn.Conv2d(8,16,5,stride=1)\n",
        "    self.enc3 = nn.Conv2d(16,32,5,stride=2)\n",
        "    self.bottle = nn.MaxPool2d(2, 2)\n",
        "\n",
        "    self.dec1 = nn.ConvTranspose2d(32,16,3, stride=2)\n",
        "    self.dec2 = nn.ConvTranspose2d(16,8,5, stride=2)\n",
        "    self.dec3 = nn.ConvTranspose2d(8,1,8, stride=1)\n",
        "\n",
        "  def encoder(self,x):\n",
        "    x=F.relu(self.enc1(x))\n",
        "    x=F.relu(self.enc2(x))\n",
        "    x=F.relu(self.enc3(x))\n",
        "    x=self.bottle(x)\n",
        "    return x\n",
        "\n",
        "  def decoder(self,x):\n",
        "    x=F.relu(self.dec1(x))\n",
        "    x=F.relu(self.dec2(x))\n",
        "    x=torch.sigmoid(self.dec3(x))\n",
        "    return x\n",
        "\n",
        "\n",
        "  def forward(self,x):\n",
        "    x=self.encoder(x)\n",
        "    x=self.decoder(x)\n",
        "    return x\n",
        "\n",
        "  def forwardwithlayers(self,x):\n",
        "    layers=[]\n",
        "    x1=F.relu(self.enc1(x))\n",
        "    layers.append(x1)\n",
        "    x2=F.relu(self.enc2(x1))\n",
        "    layers.append(x2)\n",
        "    x3=F.relu(self.enc3(x2))\n",
        "    layers.append(x3)\n",
        "    x4=self.bottle(x3)\n",
        "    layers.append(x4)\n",
        "    x5=F.relu(self.dec1(x4))\n",
        "    layers.append(x5)\n",
        "    x6=F.relu(self.dec2(x5))\n",
        "    layers.append(x6)\n",
        "    xans=torch.sigmoid(self.dec3(x6))\n",
        "    return xans,layers\n"
      ],
      "metadata": {
        "id": "1qUhzZ-b0x_j"
      },
      "execution_count": null,
      "outputs": []
    },
    {
      "cell_type": "code",
      "source": [
        "def l1_reg(layers, lambda_=4e-5):\n",
        "  loss = 0\n",
        "  for i in layers:\n",
        "    loss += torch.mean(torch.abs(i))\n",
        "\n",
        "  return lambda_*loss"
      ],
      "metadata": {
        "id": "TnB3avMndEQC"
      },
      "execution_count": null,
      "outputs": []
    },
    {
      "cell_type": "code",
      "source": [
        "def train(model,train_loader,epochs=3,lr=9e-3,device=\"cpu\"):\n",
        "  model.train()\n",
        "  model.to(device)\n",
        "  optimizer=optim.Adam(model.parameters(),lr=lr)\n",
        "  lossfunc=nn.BCELoss()\n",
        "  lossavg=0\n",
        "\n",
        "  for epoch in range(epochs):\n",
        "    for (bid,(inp,lab)) in enumerate(train_loader):\n",
        "      inp=inp.to(device)\n",
        "      optimizer.zero_grad()\n",
        "      #lab=lab.to(device)\n",
        "      out,layers=model.forwardwithlayers(inp)\n",
        "      loss=lossfunc(out,inp)\n",
        "      loss+=l1_reg(layers)\n",
        "      loss.backward()\n",
        "      optimizer.step()\n",
        "      lossavg+=loss.item()\n",
        "      if bid%10==0:\n",
        "        print(f\"epoch:{epoch} batch={bid} loss:{loss.item()}\")\n",
        "\n",
        "    print(f\"epoch:{epoch} loss:{lossavg/len(train_loader)}\")\n"
      ],
      "metadata": {
        "id": "8KLeE5BtXlKB"
      },
      "execution_count": null,
      "outputs": []
    },
    {
      "cell_type": "code",
      "source": [
        "trainloader=torch.utils.data.DataLoader(trainset,batch_size=128,shuffle=True)\n",
        "testloader=torch.utils.data.DataLoader(testset,batch_size=128,shuffle=False)"
      ],
      "metadata": {
        "id": "seS4GJjeaRKn"
      },
      "execution_count": null,
      "outputs": []
    },
    {
      "cell_type": "code",
      "source": [
        "model=SparseAE()\n",
        "device=torch.device(\"cuda\" if torch.cuda.is_available() else 'cpu')\n",
        "train(model,trainloader,epochs=2,device=device)"
      ],
      "metadata": {
        "colab": {
          "base_uri": "https://localhost:8080/",
          "height": 1000
        },
        "id": "EygzJcigaWCj",
        "outputId": "ac55573a-0d74-4dcb-cd9f-10b0cd5f0036"
      },
      "execution_count": null,
      "outputs": [
        {
          "output_type": "stream",
          "name": "stdout",
          "text": [
            "epoch:0 batch=0 loss:0.7346805334091187\n",
            "epoch:0 batch=10 loss:0.650163471698761\n",
            "epoch:0 batch=20 loss:0.5803365111351013\n",
            "epoch:0 batch=30 loss:0.47904908657073975\n",
            "epoch:0 batch=40 loss:0.5792065262794495\n",
            "epoch:0 batch=50 loss:0.3713313043117523\n",
            "epoch:0 batch=60 loss:0.32430896162986755\n",
            "epoch:0 batch=70 loss:0.26691383123397827\n",
            "epoch:0 batch=80 loss:0.2344665229320526\n",
            "epoch:0 batch=90 loss:0.20119281113147736\n",
            "epoch:0 batch=100 loss:0.1947735846042633\n",
            "epoch:0 batch=110 loss:0.18385377526283264\n",
            "epoch:0 batch=120 loss:0.17649900913238525\n",
            "epoch:0 batch=130 loss:0.1617802530527115\n",
            "epoch:0 batch=140 loss:0.15678183734416962\n",
            "epoch:0 batch=150 loss:0.1447834074497223\n",
            "epoch:0 batch=160 loss:0.138907790184021\n",
            "epoch:0 batch=170 loss:0.1294880509376526\n",
            "epoch:0 batch=180 loss:0.13276244699954987\n",
            "epoch:0 batch=190 loss:0.12945425510406494\n",
            "epoch:0 batch=200 loss:0.12047890573740005\n",
            "epoch:0 batch=210 loss:0.1221485584974289\n",
            "epoch:0 batch=220 loss:0.12122651934623718\n",
            "epoch:0 batch=230 loss:0.1206459179520607\n",
            "epoch:0 batch=240 loss:0.11709778010845184\n",
            "epoch:0 batch=250 loss:0.10783775895833969\n",
            "epoch:0 batch=260 loss:0.11626280099153519\n",
            "epoch:0 batch=270 loss:0.11415094882249832\n",
            "epoch:0 batch=280 loss:0.10702501237392426\n",
            "epoch:0 batch=290 loss:0.1029353216290474\n",
            "epoch:0 batch=300 loss:0.11233450472354889\n",
            "epoch:0 batch=310 loss:0.10783297568559647\n",
            "epoch:0 batch=320 loss:0.11060682684183121\n",
            "epoch:0 batch=330 loss:0.10952640324831009\n",
            "epoch:0 batch=340 loss:0.10122711211442947\n",
            "epoch:0 batch=350 loss:0.10430917143821716\n",
            "epoch:0 batch=360 loss:0.10320199280977249\n",
            "epoch:0 batch=370 loss:0.10156276077032089\n",
            "epoch:0 batch=380 loss:0.10369656980037689\n",
            "epoch:0 batch=390 loss:0.10817048698663712\n",
            "epoch:0 batch=400 loss:0.09675486385822296\n",
            "epoch:0 batch=410 loss:0.10608287900686264\n",
            "epoch:0 batch=420 loss:0.0998196080327034\n",
            "epoch:0 loss:0.18669136357604044\n",
            "epoch:1 batch=0 loss:0.09735249727964401\n",
            "epoch:1 batch=10 loss:0.09949439018964767\n",
            "epoch:1 batch=20 loss:0.09867791086435318\n",
            "epoch:1 batch=30 loss:0.0991394966840744\n"
          ]
        },
        {
          "output_type": "error",
          "ename": "KeyboardInterrupt",
          "evalue": "",
          "traceback": [
            "\u001b[0;31m---------------------------------------------------------------------------\u001b[0m",
            "\u001b[0;31mKeyboardInterrupt\u001b[0m                         Traceback (most recent call last)",
            "\u001b[0;32m<ipython-input-31-a83779a43aa2>\u001b[0m in \u001b[0;36m<cell line: 3>\u001b[0;34m()\u001b[0m\n\u001b[1;32m      1\u001b[0m \u001b[0mmodel\u001b[0m\u001b[0;34m=\u001b[0m\u001b[0mSparseAE\u001b[0m\u001b[0;34m(\u001b[0m\u001b[0;34m)\u001b[0m\u001b[0;34m\u001b[0m\u001b[0;34m\u001b[0m\u001b[0m\n\u001b[1;32m      2\u001b[0m \u001b[0mdevice\u001b[0m\u001b[0;34m=\u001b[0m\u001b[0mtorch\u001b[0m\u001b[0;34m.\u001b[0m\u001b[0mdevice\u001b[0m\u001b[0;34m(\u001b[0m\u001b[0;34m\"cuda\"\u001b[0m \u001b[0;32mif\u001b[0m \u001b[0mtorch\u001b[0m\u001b[0;34m.\u001b[0m\u001b[0mcuda\u001b[0m\u001b[0;34m.\u001b[0m\u001b[0mis_available\u001b[0m\u001b[0;34m(\u001b[0m\u001b[0;34m)\u001b[0m \u001b[0;32melse\u001b[0m \u001b[0;34m'cpu'\u001b[0m\u001b[0;34m)\u001b[0m\u001b[0;34m\u001b[0m\u001b[0;34m\u001b[0m\u001b[0m\n\u001b[0;32m----> 3\u001b[0;31m \u001b[0mtrain\u001b[0m\u001b[0;34m(\u001b[0m\u001b[0mmodel\u001b[0m\u001b[0;34m,\u001b[0m\u001b[0mtrainloader\u001b[0m\u001b[0;34m,\u001b[0m\u001b[0mepochs\u001b[0m\u001b[0;34m=\u001b[0m\u001b[0;36m2\u001b[0m\u001b[0;34m,\u001b[0m\u001b[0mdevice\u001b[0m\u001b[0;34m=\u001b[0m\u001b[0mdevice\u001b[0m\u001b[0;34m)\u001b[0m\u001b[0;34m\u001b[0m\u001b[0;34m\u001b[0m\u001b[0m\n\u001b[0m",
            "\u001b[0;32m<ipython-input-8-7fe4135bb1fd>\u001b[0m in \u001b[0;36mtrain\u001b[0;34m(model, train_loader, epochs, lr, device)\u001b[0m\n\u001b[1;32m      7\u001b[0m \u001b[0;34m\u001b[0m\u001b[0m\n\u001b[1;32m      8\u001b[0m   \u001b[0;32mfor\u001b[0m \u001b[0mepoch\u001b[0m \u001b[0;32min\u001b[0m \u001b[0mrange\u001b[0m\u001b[0;34m(\u001b[0m\u001b[0mepochs\u001b[0m\u001b[0;34m)\u001b[0m\u001b[0;34m:\u001b[0m\u001b[0;34m\u001b[0m\u001b[0;34m\u001b[0m\u001b[0m\n\u001b[0;32m----> 9\u001b[0;31m     \u001b[0;32mfor\u001b[0m \u001b[0;34m(\u001b[0m\u001b[0mbid\u001b[0m\u001b[0;34m,\u001b[0m\u001b[0;34m(\u001b[0m\u001b[0minp\u001b[0m\u001b[0;34m,\u001b[0m\u001b[0mlab\u001b[0m\u001b[0;34m)\u001b[0m\u001b[0;34m)\u001b[0m \u001b[0;32min\u001b[0m \u001b[0menumerate\u001b[0m\u001b[0;34m(\u001b[0m\u001b[0mtrain_loader\u001b[0m\u001b[0;34m)\u001b[0m\u001b[0;34m:\u001b[0m\u001b[0;34m\u001b[0m\u001b[0;34m\u001b[0m\u001b[0m\n\u001b[0m\u001b[1;32m     10\u001b[0m       \u001b[0minp\u001b[0m\u001b[0;34m=\u001b[0m\u001b[0minp\u001b[0m\u001b[0;34m.\u001b[0m\u001b[0mto\u001b[0m\u001b[0;34m(\u001b[0m\u001b[0mdevice\u001b[0m\u001b[0;34m)\u001b[0m\u001b[0;34m\u001b[0m\u001b[0;34m\u001b[0m\u001b[0m\n\u001b[1;32m     11\u001b[0m       \u001b[0moptimizer\u001b[0m\u001b[0;34m.\u001b[0m\u001b[0mzero_grad\u001b[0m\u001b[0;34m(\u001b[0m\u001b[0;34m)\u001b[0m\u001b[0;34m\u001b[0m\u001b[0;34m\u001b[0m\u001b[0m\n",
            "\u001b[0;32m/usr/local/lib/python3.10/dist-packages/torch/utils/data/dataloader.py\u001b[0m in \u001b[0;36m__next__\u001b[0;34m(self)\u001b[0m\n\u001b[1;32m    629\u001b[0m                 \u001b[0;31m# TODO(https://github.com/pytorch/pytorch/issues/76750)\u001b[0m\u001b[0;34m\u001b[0m\u001b[0;34m\u001b[0m\u001b[0m\n\u001b[1;32m    630\u001b[0m                 \u001b[0mself\u001b[0m\u001b[0;34m.\u001b[0m\u001b[0m_reset\u001b[0m\u001b[0;34m(\u001b[0m\u001b[0;34m)\u001b[0m  \u001b[0;31m# type: ignore[call-arg]\u001b[0m\u001b[0;34m\u001b[0m\u001b[0;34m\u001b[0m\u001b[0m\n\u001b[0;32m--> 631\u001b[0;31m             \u001b[0mdata\u001b[0m \u001b[0;34m=\u001b[0m \u001b[0mself\u001b[0m\u001b[0;34m.\u001b[0m\u001b[0m_next_data\u001b[0m\u001b[0;34m(\u001b[0m\u001b[0;34m)\u001b[0m\u001b[0;34m\u001b[0m\u001b[0;34m\u001b[0m\u001b[0m\n\u001b[0m\u001b[1;32m    632\u001b[0m             \u001b[0mself\u001b[0m\u001b[0;34m.\u001b[0m\u001b[0m_num_yielded\u001b[0m \u001b[0;34m+=\u001b[0m \u001b[0;36m1\u001b[0m\u001b[0;34m\u001b[0m\u001b[0;34m\u001b[0m\u001b[0m\n\u001b[1;32m    633\u001b[0m             \u001b[0;32mif\u001b[0m \u001b[0mself\u001b[0m\u001b[0;34m.\u001b[0m\u001b[0m_dataset_kind\u001b[0m \u001b[0;34m==\u001b[0m \u001b[0m_DatasetKind\u001b[0m\u001b[0;34m.\u001b[0m\u001b[0mIterable\u001b[0m \u001b[0;32mand\u001b[0m\u001b[0;31m \u001b[0m\u001b[0;31m\\\u001b[0m\u001b[0;34m\u001b[0m\u001b[0;34m\u001b[0m\u001b[0m\n",
            "\u001b[0;32m/usr/local/lib/python3.10/dist-packages/torch/utils/data/dataloader.py\u001b[0m in \u001b[0;36m_next_data\u001b[0;34m(self)\u001b[0m\n\u001b[1;32m    673\u001b[0m     \u001b[0;32mdef\u001b[0m \u001b[0m_next_data\u001b[0m\u001b[0;34m(\u001b[0m\u001b[0mself\u001b[0m\u001b[0;34m)\u001b[0m\u001b[0;34m:\u001b[0m\u001b[0;34m\u001b[0m\u001b[0;34m\u001b[0m\u001b[0m\n\u001b[1;32m    674\u001b[0m         \u001b[0mindex\u001b[0m \u001b[0;34m=\u001b[0m \u001b[0mself\u001b[0m\u001b[0;34m.\u001b[0m\u001b[0m_next_index\u001b[0m\u001b[0;34m(\u001b[0m\u001b[0;34m)\u001b[0m  \u001b[0;31m# may raise StopIteration\u001b[0m\u001b[0;34m\u001b[0m\u001b[0;34m\u001b[0m\u001b[0m\n\u001b[0;32m--> 675\u001b[0;31m         \u001b[0mdata\u001b[0m \u001b[0;34m=\u001b[0m \u001b[0mself\u001b[0m\u001b[0;34m.\u001b[0m\u001b[0m_dataset_fetcher\u001b[0m\u001b[0;34m.\u001b[0m\u001b[0mfetch\u001b[0m\u001b[0;34m(\u001b[0m\u001b[0mindex\u001b[0m\u001b[0;34m)\u001b[0m  \u001b[0;31m# may raise StopIteration\u001b[0m\u001b[0;34m\u001b[0m\u001b[0;34m\u001b[0m\u001b[0m\n\u001b[0m\u001b[1;32m    676\u001b[0m         \u001b[0;32mif\u001b[0m \u001b[0mself\u001b[0m\u001b[0;34m.\u001b[0m\u001b[0m_pin_memory\u001b[0m\u001b[0;34m:\u001b[0m\u001b[0;34m\u001b[0m\u001b[0;34m\u001b[0m\u001b[0m\n\u001b[1;32m    677\u001b[0m             \u001b[0mdata\u001b[0m \u001b[0;34m=\u001b[0m \u001b[0m_utils\u001b[0m\u001b[0;34m.\u001b[0m\u001b[0mpin_memory\u001b[0m\u001b[0;34m.\u001b[0m\u001b[0mpin_memory\u001b[0m\u001b[0;34m(\u001b[0m\u001b[0mdata\u001b[0m\u001b[0;34m,\u001b[0m \u001b[0mself\u001b[0m\u001b[0;34m.\u001b[0m\u001b[0m_pin_memory_device\u001b[0m\u001b[0;34m)\u001b[0m\u001b[0;34m\u001b[0m\u001b[0;34m\u001b[0m\u001b[0m\n",
            "\u001b[0;32m/usr/local/lib/python3.10/dist-packages/torch/utils/data/_utils/fetch.py\u001b[0m in \u001b[0;36mfetch\u001b[0;34m(self, possibly_batched_index)\u001b[0m\n\u001b[1;32m     47\u001b[0m         \u001b[0;32mif\u001b[0m \u001b[0mself\u001b[0m\u001b[0;34m.\u001b[0m\u001b[0mauto_collation\u001b[0m\u001b[0;34m:\u001b[0m\u001b[0;34m\u001b[0m\u001b[0;34m\u001b[0m\u001b[0m\n\u001b[1;32m     48\u001b[0m             \u001b[0;32mif\u001b[0m \u001b[0mhasattr\u001b[0m\u001b[0;34m(\u001b[0m\u001b[0mself\u001b[0m\u001b[0;34m.\u001b[0m\u001b[0mdataset\u001b[0m\u001b[0;34m,\u001b[0m \u001b[0;34m\"__getitems__\"\u001b[0m\u001b[0;34m)\u001b[0m \u001b[0;32mand\u001b[0m \u001b[0mself\u001b[0m\u001b[0;34m.\u001b[0m\u001b[0mdataset\u001b[0m\u001b[0;34m.\u001b[0m\u001b[0m__getitems__\u001b[0m\u001b[0;34m:\u001b[0m\u001b[0;34m\u001b[0m\u001b[0;34m\u001b[0m\u001b[0m\n\u001b[0;32m---> 49\u001b[0;31m                 \u001b[0mdata\u001b[0m \u001b[0;34m=\u001b[0m \u001b[0mself\u001b[0m\u001b[0;34m.\u001b[0m\u001b[0mdataset\u001b[0m\u001b[0;34m.\u001b[0m\u001b[0m__getitems__\u001b[0m\u001b[0;34m(\u001b[0m\u001b[0mpossibly_batched_index\u001b[0m\u001b[0;34m)\u001b[0m\u001b[0;34m\u001b[0m\u001b[0;34m\u001b[0m\u001b[0m\n\u001b[0m\u001b[1;32m     50\u001b[0m             \u001b[0;32melse\u001b[0m\u001b[0;34m:\u001b[0m\u001b[0;34m\u001b[0m\u001b[0;34m\u001b[0m\u001b[0m\n\u001b[1;32m     51\u001b[0m                 \u001b[0mdata\u001b[0m \u001b[0;34m=\u001b[0m \u001b[0;34m[\u001b[0m\u001b[0mself\u001b[0m\u001b[0;34m.\u001b[0m\u001b[0mdataset\u001b[0m\u001b[0;34m[\u001b[0m\u001b[0midx\u001b[0m\u001b[0;34m]\u001b[0m \u001b[0;32mfor\u001b[0m \u001b[0midx\u001b[0m \u001b[0;32min\u001b[0m \u001b[0mpossibly_batched_index\u001b[0m\u001b[0;34m]\u001b[0m\u001b[0;34m\u001b[0m\u001b[0;34m\u001b[0m\u001b[0m\n",
            "\u001b[0;32m/usr/local/lib/python3.10/dist-packages/torch/utils/data/dataset.py\u001b[0m in \u001b[0;36m__getitems__\u001b[0;34m(self, indices)\u001b[0m\n\u001b[1;32m    417\u001b[0m             \u001b[0;32mreturn\u001b[0m \u001b[0mself\u001b[0m\u001b[0;34m.\u001b[0m\u001b[0mdataset\u001b[0m\u001b[0;34m.\u001b[0m\u001b[0m__getitems__\u001b[0m\u001b[0;34m(\u001b[0m\u001b[0;34m[\u001b[0m\u001b[0mself\u001b[0m\u001b[0;34m.\u001b[0m\u001b[0mindices\u001b[0m\u001b[0;34m[\u001b[0m\u001b[0midx\u001b[0m\u001b[0;34m]\u001b[0m \u001b[0;32mfor\u001b[0m \u001b[0midx\u001b[0m \u001b[0;32min\u001b[0m \u001b[0mindices\u001b[0m\u001b[0;34m]\u001b[0m\u001b[0;34m)\u001b[0m  \u001b[0;31m# type: ignore[attr-defined]\u001b[0m\u001b[0;34m\u001b[0m\u001b[0;34m\u001b[0m\u001b[0m\n\u001b[1;32m    418\u001b[0m         \u001b[0;32melse\u001b[0m\u001b[0;34m:\u001b[0m\u001b[0;34m\u001b[0m\u001b[0;34m\u001b[0m\u001b[0m\n\u001b[0;32m--> 419\u001b[0;31m             \u001b[0;32mreturn\u001b[0m \u001b[0;34m[\u001b[0m\u001b[0mself\u001b[0m\u001b[0;34m.\u001b[0m\u001b[0mdataset\u001b[0m\u001b[0;34m[\u001b[0m\u001b[0mself\u001b[0m\u001b[0;34m.\u001b[0m\u001b[0mindices\u001b[0m\u001b[0;34m[\u001b[0m\u001b[0midx\u001b[0m\u001b[0;34m]\u001b[0m\u001b[0;34m]\u001b[0m \u001b[0;32mfor\u001b[0m \u001b[0midx\u001b[0m \u001b[0;32min\u001b[0m \u001b[0mindices\u001b[0m\u001b[0;34m]\u001b[0m\u001b[0;34m\u001b[0m\u001b[0;34m\u001b[0m\u001b[0m\n\u001b[0m\u001b[1;32m    420\u001b[0m \u001b[0;34m\u001b[0m\u001b[0m\n\u001b[1;32m    421\u001b[0m     \u001b[0;32mdef\u001b[0m \u001b[0m__len__\u001b[0m\u001b[0;34m(\u001b[0m\u001b[0mself\u001b[0m\u001b[0;34m)\u001b[0m\u001b[0;34m:\u001b[0m\u001b[0;34m\u001b[0m\u001b[0;34m\u001b[0m\u001b[0m\n",
            "\u001b[0;32m/usr/local/lib/python3.10/dist-packages/torch/utils/data/dataset.py\u001b[0m in \u001b[0;36m<listcomp>\u001b[0;34m(.0)\u001b[0m\n\u001b[1;32m    417\u001b[0m             \u001b[0;32mreturn\u001b[0m \u001b[0mself\u001b[0m\u001b[0;34m.\u001b[0m\u001b[0mdataset\u001b[0m\u001b[0;34m.\u001b[0m\u001b[0m__getitems__\u001b[0m\u001b[0;34m(\u001b[0m\u001b[0;34m[\u001b[0m\u001b[0mself\u001b[0m\u001b[0;34m.\u001b[0m\u001b[0mindices\u001b[0m\u001b[0;34m[\u001b[0m\u001b[0midx\u001b[0m\u001b[0;34m]\u001b[0m \u001b[0;32mfor\u001b[0m \u001b[0midx\u001b[0m \u001b[0;32min\u001b[0m \u001b[0mindices\u001b[0m\u001b[0;34m]\u001b[0m\u001b[0;34m)\u001b[0m  \u001b[0;31m# type: ignore[attr-defined]\u001b[0m\u001b[0;34m\u001b[0m\u001b[0;34m\u001b[0m\u001b[0m\n\u001b[1;32m    418\u001b[0m         \u001b[0;32melse\u001b[0m\u001b[0;34m:\u001b[0m\u001b[0;34m\u001b[0m\u001b[0;34m\u001b[0m\u001b[0m\n\u001b[0;32m--> 419\u001b[0;31m             \u001b[0;32mreturn\u001b[0m \u001b[0;34m[\u001b[0m\u001b[0mself\u001b[0m\u001b[0;34m.\u001b[0m\u001b[0mdataset\u001b[0m\u001b[0;34m[\u001b[0m\u001b[0mself\u001b[0m\u001b[0;34m.\u001b[0m\u001b[0mindices\u001b[0m\u001b[0;34m[\u001b[0m\u001b[0midx\u001b[0m\u001b[0;34m]\u001b[0m\u001b[0;34m]\u001b[0m \u001b[0;32mfor\u001b[0m \u001b[0midx\u001b[0m \u001b[0;32min\u001b[0m \u001b[0mindices\u001b[0m\u001b[0;34m]\u001b[0m\u001b[0;34m\u001b[0m\u001b[0;34m\u001b[0m\u001b[0m\n\u001b[0m\u001b[1;32m    420\u001b[0m \u001b[0;34m\u001b[0m\u001b[0m\n\u001b[1;32m    421\u001b[0m     \u001b[0;32mdef\u001b[0m \u001b[0m__len__\u001b[0m\u001b[0;34m(\u001b[0m\u001b[0mself\u001b[0m\u001b[0;34m)\u001b[0m\u001b[0;34m:\u001b[0m\u001b[0;34m\u001b[0m\u001b[0;34m\u001b[0m\u001b[0m\n",
            "\u001b[0;32m/usr/local/lib/python3.10/dist-packages/torchvision/datasets/mnist.py\u001b[0m in \u001b[0;36m__getitem__\u001b[0;34m(self, index)\u001b[0m\n\u001b[1;32m    144\u001b[0m \u001b[0;34m\u001b[0m\u001b[0m\n\u001b[1;32m    145\u001b[0m         \u001b[0;32mif\u001b[0m \u001b[0mself\u001b[0m\u001b[0;34m.\u001b[0m\u001b[0mtransform\u001b[0m \u001b[0;32mis\u001b[0m \u001b[0;32mnot\u001b[0m \u001b[0;32mNone\u001b[0m\u001b[0;34m:\u001b[0m\u001b[0;34m\u001b[0m\u001b[0;34m\u001b[0m\u001b[0m\n\u001b[0;32m--> 146\u001b[0;31m             \u001b[0mimg\u001b[0m \u001b[0;34m=\u001b[0m \u001b[0mself\u001b[0m\u001b[0;34m.\u001b[0m\u001b[0mtransform\u001b[0m\u001b[0;34m(\u001b[0m\u001b[0mimg\u001b[0m\u001b[0;34m)\u001b[0m\u001b[0;34m\u001b[0m\u001b[0;34m\u001b[0m\u001b[0m\n\u001b[0m\u001b[1;32m    147\u001b[0m \u001b[0;34m\u001b[0m\u001b[0m\n\u001b[1;32m    148\u001b[0m         \u001b[0;32mif\u001b[0m \u001b[0mself\u001b[0m\u001b[0;34m.\u001b[0m\u001b[0mtarget_transform\u001b[0m \u001b[0;32mis\u001b[0m \u001b[0;32mnot\u001b[0m \u001b[0;32mNone\u001b[0m\u001b[0;34m:\u001b[0m\u001b[0;34m\u001b[0m\u001b[0;34m\u001b[0m\u001b[0m\n",
            "\u001b[0;32m/usr/local/lib/python3.10/dist-packages/torchvision/transforms/transforms.py\u001b[0m in \u001b[0;36m__call__\u001b[0;34m(self, pic)\u001b[0m\n\u001b[1;32m    135\u001b[0m             \u001b[0mTensor\u001b[0m\u001b[0;34m:\u001b[0m \u001b[0mConverted\u001b[0m \u001b[0mimage\u001b[0m\u001b[0;34m.\u001b[0m\u001b[0;34m\u001b[0m\u001b[0;34m\u001b[0m\u001b[0m\n\u001b[1;32m    136\u001b[0m         \"\"\"\n\u001b[0;32m--> 137\u001b[0;31m         \u001b[0;32mreturn\u001b[0m \u001b[0mF\u001b[0m\u001b[0;34m.\u001b[0m\u001b[0mto_tensor\u001b[0m\u001b[0;34m(\u001b[0m\u001b[0mpic\u001b[0m\u001b[0;34m)\u001b[0m\u001b[0;34m\u001b[0m\u001b[0;34m\u001b[0m\u001b[0m\n\u001b[0m\u001b[1;32m    138\u001b[0m \u001b[0;34m\u001b[0m\u001b[0m\n\u001b[1;32m    139\u001b[0m     \u001b[0;32mdef\u001b[0m \u001b[0m__repr__\u001b[0m\u001b[0;34m(\u001b[0m\u001b[0mself\u001b[0m\u001b[0;34m)\u001b[0m \u001b[0;34m->\u001b[0m \u001b[0mstr\u001b[0m\u001b[0;34m:\u001b[0m\u001b[0;34m\u001b[0m\u001b[0;34m\u001b[0m\u001b[0m\n",
            "\u001b[0;32m/usr/local/lib/python3.10/dist-packages/torchvision/transforms/functional.py\u001b[0m in \u001b[0;36mto_tensor\u001b[0;34m(pic)\u001b[0m\n\u001b[1;32m    170\u001b[0m     \u001b[0;32mif\u001b[0m \u001b[0mpic\u001b[0m\u001b[0;34m.\u001b[0m\u001b[0mmode\u001b[0m \u001b[0;34m==\u001b[0m \u001b[0;34m\"1\"\u001b[0m\u001b[0;34m:\u001b[0m\u001b[0;34m\u001b[0m\u001b[0;34m\u001b[0m\u001b[0m\n\u001b[1;32m    171\u001b[0m         \u001b[0mimg\u001b[0m \u001b[0;34m=\u001b[0m \u001b[0;36m255\u001b[0m \u001b[0;34m*\u001b[0m \u001b[0mimg\u001b[0m\u001b[0;34m\u001b[0m\u001b[0;34m\u001b[0m\u001b[0m\n\u001b[0;32m--> 172\u001b[0;31m     \u001b[0mimg\u001b[0m \u001b[0;34m=\u001b[0m \u001b[0mimg\u001b[0m\u001b[0;34m.\u001b[0m\u001b[0mview\u001b[0m\u001b[0;34m(\u001b[0m\u001b[0mpic\u001b[0m\u001b[0;34m.\u001b[0m\u001b[0msize\u001b[0m\u001b[0;34m[\u001b[0m\u001b[0;36m1\u001b[0m\u001b[0;34m]\u001b[0m\u001b[0;34m,\u001b[0m \u001b[0mpic\u001b[0m\u001b[0;34m.\u001b[0m\u001b[0msize\u001b[0m\u001b[0;34m[\u001b[0m\u001b[0;36m0\u001b[0m\u001b[0;34m]\u001b[0m\u001b[0;34m,\u001b[0m \u001b[0mF_pil\u001b[0m\u001b[0;34m.\u001b[0m\u001b[0mget_image_num_channels\u001b[0m\u001b[0;34m(\u001b[0m\u001b[0mpic\u001b[0m\u001b[0;34m)\u001b[0m\u001b[0;34m)\u001b[0m\u001b[0;34m\u001b[0m\u001b[0;34m\u001b[0m\u001b[0m\n\u001b[0m\u001b[1;32m    173\u001b[0m     \u001b[0;31m# put it from HWC to CHW format\u001b[0m\u001b[0;34m\u001b[0m\u001b[0;34m\u001b[0m\u001b[0m\n\u001b[1;32m    174\u001b[0m     \u001b[0mimg\u001b[0m \u001b[0;34m=\u001b[0m \u001b[0mimg\u001b[0m\u001b[0;34m.\u001b[0m\u001b[0mpermute\u001b[0m\u001b[0;34m(\u001b[0m\u001b[0;34m(\u001b[0m\u001b[0;36m2\u001b[0m\u001b[0;34m,\u001b[0m \u001b[0;36m0\u001b[0m\u001b[0;34m,\u001b[0m \u001b[0;36m1\u001b[0m\u001b[0;34m)\u001b[0m\u001b[0;34m)\u001b[0m\u001b[0;34m.\u001b[0m\u001b[0mcontiguous\u001b[0m\u001b[0;34m(\u001b[0m\u001b[0;34m)\u001b[0m\u001b[0;34m\u001b[0m\u001b[0;34m\u001b[0m\u001b[0m\n",
            "\u001b[0;31mKeyboardInterrupt\u001b[0m: "
          ]
        }
      ]
    },
    {
      "cell_type": "code",
      "source": [
        "#test1\n",
        "\n",
        "img=testset[2][0].to(device).unsqueeze(0)\n",
        "out=model(img)\n",
        "plt.imshow(out.detach().cpu().squeeze(0)[0,:,:])\n"
      ],
      "metadata": {
        "colab": {
          "base_uri": "https://localhost:8080/",
          "height": 447
        },
        "id": "sB02MNY9cI16",
        "outputId": "3027fa12-8e15-4365-bff2-b26125c34118"
      },
      "execution_count": null,
      "outputs": [
        {
          "output_type": "execute_result",
          "data": {
            "text/plain": [
              "<matplotlib.image.AxesImage at 0x7e0b636b95a0>"
            ]
          },
          "metadata": {},
          "execution_count": 32
        },
        {
          "output_type": "display_data",
          "data": {
            "text/plain": [
              "<Figure size 640x480 with 1 Axes>"
            ],
            "image/png": "[encoded data removed]"
          },
          "metadata": {}
        }
      ]
    },
    {
      "cell_type": "code",
      "source": [
        "plt.imshow(img.detach().cpu().squeeze(0)[0,:,:])"
      ],
      "metadata": {
        "colab": {
          "base_uri": "https://localhost:8080/",
          "height": 447
        },
        "id": "L7E8E3Bqe-2K",
        "outputId": "3743d235-ddd8-4291-c0df-9dc2e542e448"
      },
      "execution_count": null,
      "outputs": [
        {
          "output_type": "execute_result",
          "data": {
            "text/plain": [
              "<matplotlib.image.AxesImage at 0x7e0b636ba8c0>"
            ]
          },
          "metadata": {},
          "execution_count": 33
        },
        {
          "output_type": "display_data",
          "data": {
            "text/plain": [
              "<Figure size 640x480 with 1 Axes>"
            ],
            "image/png": "[encoded data removed]"
          },
          "metadata": {}
        }
      ]
    },
    {
      "cell_type": "code",
      "source": [
        "def test(model,test_loader,device=\"cpu\"):\n",
        "  model.eval()\n",
        "  model.to(device)\n",
        "  lossfunc=nn.BCELoss()\n",
        "  lossavg=0\n",
        "\n",
        "  for (bid,(inp,lab)) in enumerate(test_loader):\n",
        "      inp=inp.to(device)\n",
        "\n",
        "      #lab=lab.to(device)\n",
        "      out,layers=model.forwardwithlayers(inp)\n",
        "      loss=lossfunc(out,inp)\n",
        "      loss+=l1_reg(layers)\n",
        "      lossavg+=loss.item()\n",
        "\n",
        "      print(f\"batch={bid} loss:{loss.item()}\")\n",
        "\n",
        "  print(f\"loss Average:{lossavg/len(test_loader)}\")"
      ],
      "metadata": {
        "id": "WDODHFlAgcS5"
      },
      "execution_count": null,
      "outputs": []
    },
    {
      "cell_type": "code",
      "source": [
        "test(model,testloader,device=device)"
      ],
      "metadata": {
        "colab": {
          "base_uri": "https://localhost:8080/"
        },
        "id": "6pITcrWbhlYX",
        "outputId": "f7ff5eaf-50ed-4dbb-85aa-15fce6da6a55"
      },
      "execution_count": null,
      "outputs": [
        {
          "output_type": "stream",
          "name": "stdout",
          "text": [
            "batch=0 loss:0.09825733304023743\n",
            "batch=1 loss:0.10166682302951813\n",
            "batch=2 loss:0.10116837918758392\n",
            "batch=3 loss:0.09830772131681442\n",
            "batch=4 loss:0.09583579003810883\n",
            "batch=5 loss:0.0945015549659729\n",
            "batch=6 loss:0.10312231630086899\n",
            "batch=7 loss:0.0961381196975708\n",
            "batch=8 loss:0.10021279752254486\n",
            "batch=9 loss:0.10329338908195496\n",
            "batch=10 loss:0.09609769284725189\n",
            "batch=11 loss:0.09872013330459595\n",
            "batch=12 loss:0.10017648339271545\n",
            "batch=13 loss:0.10135772079229355\n",
            "batch=14 loss:0.10231456160545349\n",
            "batch=15 loss:0.10177243500947952\n",
            "batch=16 loss:0.09996989369392395\n",
            "batch=17 loss:0.0939868837594986\n",
            "batch=18 loss:0.09966843575239182\n",
            "batch=19 loss:0.10404444485902786\n",
            "batch=20 loss:0.09768612682819366\n",
            "batch=21 loss:0.09790600091218948\n",
            "batch=22 loss:0.09703397005796432\n",
            "batch=23 loss:0.09766897559165955\n",
            "batch=24 loss:0.09984725713729858\n",
            "batch=25 loss:0.09305423498153687\n",
            "batch=26 loss:0.09592275321483612\n",
            "batch=27 loss:0.09740911424160004\n",
            "batch=28 loss:0.09581150114536285\n",
            "batch=29 loss:0.0993136391043663\n",
            "batch=30 loss:0.09915225207805634\n",
            "batch=31 loss:0.09894181042909622\n",
            "batch=32 loss:0.10068192332983017\n",
            "batch=33 loss:0.0970747247338295\n",
            "batch=34 loss:0.09607955068349838\n",
            "batch=35 loss:0.10186175256967545\n",
            "batch=36 loss:0.09883149713277817\n",
            "batch=37 loss:0.09909439086914062\n",
            "batch=38 loss:0.09809322655200958\n",
            "batch=39 loss:0.09932908415794373\n",
            "batch=40 loss:0.0976143553853035\n",
            "batch=41 loss:0.09692477434873581\n",
            "batch=42 loss:0.09523144364356995\n",
            "batch=43 loss:0.09944590926170349\n",
            "batch=44 loss:0.0967973917722702\n",
            "batch=45 loss:0.10152988135814667\n",
            "batch=46 loss:0.09702923148870468\n",
            "loss Average:0.09863786557887463\n"
          ]
        }
      ]
    },
    {
      "cell_type": "code",
      "source": [
        "def kl_reg(layers,rho=0.05,beta=0.005):\n",
        "  loss=0\n",
        "  for i in layers:\n",
        "    loss+=F.kl_div(torch.mean(i,dim=0),rho*torch.ones_like(i[0]))\n",
        "  return beta*torch.abs(loss)"
      ],
      "metadata": {
        "id": "aWrg137_iXx0"
      },
      "execution_count": null,
      "outputs": []
    },
    {
      "cell_type": "code",
      "source": [
        "def trainoverKLreg(model,train_loader,epochs=3,lr=9e-3,device=\"cpu\"):\n",
        "  model.train()\n",
        "  model.to(device)\n",
        "  optimizer=optim.Adam(model.parameters(),lr=lr)\n",
        "  lossfunc=nn.BCELoss()\n",
        "  lossavg=0\n",
        "\n",
        "  for epoch in range(epochs):\n",
        "    for (bid,(inp,lab)) in enumerate(train_loader):\n",
        "      inp=inp.to(device)\n",
        "      optimizer.zero_grad()\n",
        "      #lab=lab.to(device)\n",
        "      out,layers=model.forwardwithlayers(inp)\n",
        "      loss=lossfunc(out,inp)\n",
        "      loss+=kl_reg(layers)\n",
        "      loss.backward()\n",
        "      optimizer.step()\n",
        "      lossavg+=loss.item()\n",
        "      if bid%10==0:\n",
        "        print(f\"epoch:{epoch} batch={bid} loss:{loss.item()}\")\n",
        "\n",
        "    print(f\"epoch:{epoch} loss:{lossavg/len(train_loader)}\")\n"
      ],
      "metadata": {
        "id": "-7inxnGgjk_U"
      },
      "execution_count": null,
      "outputs": []
    },
    {
      "cell_type": "code",
      "source": [
        "modelforklreg=SparseAE()\n",
        "device=torch.device(\"cuda\" if torch.cuda.is_available() else 'cpu')\n",
        "#trainoverKLreg(modelforklreg,trainloader,epochs=1,device=device)"
      ],
      "metadata": {
        "id": "esoFgNaqjwsb"
      },
      "execution_count": null,
      "outputs": []
    },
    {
      "cell_type": "code",
      "source": [
        "#test1\n",
        "\n",
        "img=testset[2][0].to(device).unsqueeze(0)\n",
        "out=modelforklreg(img)\n",
        "plt.imshow(out.detach().cpu().squeeze(0)[0,:,:])\n"
      ],
      "metadata": {
        "colab": {
          "base_uri": "https://localhost:8080/",
          "height": 447
        },
        "outputId": "c69f7d10-4a18-4bcd-9544-dd3bf9550959",
        "id": "Ze44uNsNkiwu"
      },
      "execution_count": null,
      "outputs": [
        {
          "output_type": "execute_result",
          "data": {
            "text/plain": [
              "<matplotlib.image.AxesImage at 0x7e0b5ee7c0a0>"
            ]
          },
          "metadata": {},
          "execution_count": 39
        },
        {
          "output_type": "display_data",
          "data": {
            "text/plain": [
              "<Figure size 640x480 with 1 Axes>"
            ],
            "image/png": "[encoded data removed]"
          },
          "metadata": {}
        }
      ]
    },
    {
      "cell_type": "code",
      "source": [
        "plt.imshow(img.detach().cpu().squeeze(0)[0,:,:])"
      ],
      "metadata": {
        "colab": {
          "base_uri": "https://localhost:8080/",
          "height": 447
        },
        "id": "MYlxJEBxkmje",
        "outputId": "7baa6ad3-87ed-49b5-ab82-f66883cc775a"
      },
      "execution_count": null,
      "outputs": [
        {
          "output_type": "execute_result",
          "data": {
            "text/plain": [
              "<matplotlib.image.AxesImage at 0x7e0b5eef03a0>"
            ]
          },
          "metadata": {},
          "execution_count": 40
        },
        {
          "output_type": "display_data",
          "data": {
            "text/plain": [
              "<Figure size 640x480 with 1 Axes>"
            ],
            "image/png": "[encoded data removed]"
          },
          "metadata": {}
        }
      ]
    },
    {
      "cell_type": "code",
      "source": [
        "def testoverkl(model,test_loader,device=\"cpu\"):\n",
        "  model.eval()\n",
        "  model.to(device)\n",
        "  lossfunc=nn.BCELoss()\n",
        "  lossavg=0\n",
        "\n",
        "  for (bid,(inp,lab)) in enumerate(test_loader):\n",
        "      inp=inp.to(device)\n",
        "\n",
        "      #lab=lab.to(device)\n",
        "      out,layers=model.forwardwithlayers(inp)\n",
        "      loss=lossfunc(out,inp)\n",
        "      loss+=kl_reg(layers)\n",
        "      lossavg+=loss.item()\n",
        "\n",
        "      print(f\"batch={bid} loss:{loss.item()}\")\n",
        "\n",
        "  print(f\"loss Average:{lossavg/len(test_loader)}\")"
      ],
      "metadata": {
        "id": "RDg5Yz0ilJNs"
      },
      "execution_count": null,
      "outputs": []
    },
    {
      "cell_type": "code",
      "source": [
        "test(modelforklreg,testloader,device=device)"
      ],
      "metadata": {
        "colab": {
          "base_uri": "https://localhost:8080/"
        },
        "id": "a2EIqNPklT93",
        "outputId": "41c1fc40-371f-4c5a-8163-c2941bea784e"
      },
      "execution_count": null,
      "outputs": [
        {
          "output_type": "stream",
          "name": "stdout",
          "text": [
            "batch=0 loss:0.6813063025474548\n",
            "batch=1 loss:0.6809766888618469\n",
            "batch=2 loss:0.6809686422348022\n",
            "batch=3 loss:0.68108731508255\n",
            "batch=4 loss:0.6804786920547485\n",
            "batch=5 loss:0.6807103157043457\n",
            "batch=6 loss:0.6812202334403992\n",
            "batch=7 loss:0.6808823943138123\n",
            "batch=8 loss:0.6806308627128601\n",
            "batch=9 loss:0.6810214519500732\n",
            "batch=10 loss:0.6805139183998108\n",
            "batch=11 loss:0.6806833148002625\n",
            "batch=12 loss:0.6810294389724731\n",
            "batch=13 loss:0.6811744570732117\n",
            "batch=14 loss:0.6809998750686646\n",
            "batch=15 loss:0.6809939742088318\n",
            "batch=16 loss:0.6807049512863159\n",
            "batch=17 loss:0.6805238723754883\n",
            "batch=18 loss:0.6812883019447327\n",
            "batch=19 loss:0.6815454363822937\n",
            "batch=20 loss:0.6806833148002625\n",
            "batch=21 loss:0.680898129940033\n",
            "batch=22 loss:0.6814473271369934\n",
            "batch=23 loss:0.6809667348861694\n",
            "batch=24 loss:0.680898904800415\n",
            "batch=25 loss:0.6804986000061035\n",
            "batch=26 loss:0.6808652281761169\n",
            "batch=27 loss:0.6810388565063477\n",
            "batch=28 loss:0.680804967880249\n",
            "batch=29 loss:0.6813915967941284\n",
            "batch=30 loss:0.6807566285133362\n",
            "batch=31 loss:0.6811339855194092\n",
            "batch=32 loss:0.6811617612838745\n",
            "batch=33 loss:0.6809326410293579\n",
            "batch=34 loss:0.6813051104545593\n",
            "batch=35 loss:0.6811941862106323\n",
            "batch=36 loss:0.681309700012207\n",
            "batch=37 loss:0.6812250018119812\n",
            "batch=38 loss:0.6812711954116821\n",
            "batch=39 loss:0.6810301542282104\n",
            "batch=40 loss:0.6811566352844238\n",
            "batch=41 loss:0.6808743476867676\n",
            "batch=42 loss:0.6810610294342041\n",
            "batch=43 loss:0.6807557344436646\n",
            "batch=44 loss:0.6811569929122925\n",
            "batch=45 loss:0.680802583694458\n",
            "batch=46 loss:0.6808061003684998\n",
            "loss Average:0.6809822955030076\n"
          ]
        }
      ]
    },
    {
      "cell_type": "code",
      "source": [
        "torch.save(model.state_dict(),'model.pth')\n",
        "torch.save(modelforklreg.state_dict(),'modelforklreg.pth')"
      ],
      "metadata": {
        "id": "g-tArX3PmM26"
      },
      "execution_count": null,
      "outputs": []
    },
    {
      "cell_type": "code",
      "source": [
        "trainset[0][0].shape"
      ],
      "metadata": {
        "colab": {
          "base_uri": "https://localhost:8080/"
        },
        "id": "CMMPU45wniUU",
        "outputId": "4b58bd47-1852-4bf4-da80-807e073001c0"
      },
      "execution_count": null,
      "outputs": [
        {
          "output_type": "execute_result",
          "data": {
            "text/plain": [
              "torch.Size([1, 28, 28])"
            ]
          },
          "metadata": {},
          "execution_count": 44
        }
      ]
    },
    {
      "cell_type": "code",
      "source": [
        "_,layers=model.forwardwithlayers(img)"
      ],
      "metadata": {
        "id": "t7r8Vh8czmCn"
      },
      "execution_count": null,
      "outputs": []
    },
    {
      "cell_type": "code",
      "source": [
        "for i in layers:\n",
        "  print(i.shape)"
      ],
      "metadata": {
        "colab": {
          "base_uri": "https://localhost:8080/"
        },
        "id": "32YwKCd-zveu",
        "outputId": "26d37534-34a5-41ed-87e9-084999d53833"
      },
      "execution_count": null,
      "outputs": [
        {
          "output_type": "stream",
          "name": "stdout",
          "text": [
            "torch.Size([1, 8, 26, 26])\n",
            "torch.Size([1, 16, 22, 22])\n",
            "torch.Size([1, 32, 9, 9])\n",
            "torch.Size([1, 32, 4, 4])\n",
            "torch.Size([1, 16, 9, 9])\n",
            "torch.Size([1, 8, 21, 21])\n"
          ]
        }
      ]
    },
    {
      "cell_type": "code",
      "source": [
        "for param in model.parameters():\n",
        "  param.requires_grad=False"
      ],
      "metadata": {
        "id": "o8jh1fshpVxc"
      },
      "execution_count": null,
      "outputs": []
    },
    {
      "cell_type": "code",
      "source": [
        "class labelenc(nn.Module):\n",
        "  def __init__(self):\n",
        "    super().__init__()\n",
        "    self.up = nn.Sequential(\n",
        "            nn.ConvTranspose2d(10, 16, kernel_size=3, stride=2, padding=0), # (16, 2, 2)\n",
        "            nn.ConvTranspose2d(16, 32, kernel_size=2, stride=1, padding=0), # (32, 4, 4)\n",
        "        )\n",
        "  def forward(self,x):\n",
        "\n",
        "    x=self.up(x)\n",
        "    return x"
      ],
      "metadata": {
        "id": "ZPnrB3CHmzF-"
      },
      "execution_count": null,
      "outputs": []
    },
    {
      "cell_type": "code",
      "source": [
        "def trainforgen(modellabel,modeldec,train_loader,epochs=3,lr=0.001,device=\"cpu\"):\n",
        "  modellabel.train()\n",
        "  modellabel.to(device)\n",
        "  modeldec.eval()\n",
        "  modeldec.to(device)\n",
        "  optimizer=optim.Adam(modellabel.parameters(),lr=lr)\n",
        "  lossfunc=nn.MSELoss()\n",
        "  lossavg=0\n",
        "\n",
        "  for epoch in range(epochs):\n",
        "    for (bid,(inp,lab)) in enumerate(train_loader):\n",
        "      inp=inp.to(device)\n",
        "      optimizer.zero_grad()\n",
        "      lab=lab.to(device)\n",
        "      batch_size = lab.size(0)\n",
        "      one_hot = torch.zeros(batch_size, 10, 1, 1, dtype=torch.float32, device=device)\n",
        "      one_hot.scatter_(1, lab.view(-1, 1, 1, 1), 1)\n",
        "      #print(one_hot[0,:,:,:])\n",
        "\n",
        "      enc=modellabel(one_hot)\n",
        "      #print(enc.shape)\n",
        "      out=modeldec.encoder(inp)\n",
        "\n",
        "      #print(out.shape)\n",
        "      #print(enc.shape)\n",
        "\n",
        "      loss=lossfunc(enc,out)\n",
        "      loss.backward()\n",
        "      optimizer.step()\n",
        "      lossavg+=loss.item()\n",
        "      if bid%10==0:\n",
        "        print(f\"epoch:{epoch} batch={bid} loss:{loss.item()}\")\n",
        "\n",
        "    print(f\"epoch:{epoch} loss:{lossavg/((epoch+1) * len(train_loader))}\")\n"
      ],
      "metadata": {
        "id": "LyZJz_NQrNR3"
      },
      "execution_count": 110,
      "outputs": []
    },
    {
      "cell_type": "code",
      "source": [
        "modelforenc=labelenc()"
      ],
      "metadata": {
        "id": "S6FuADm-4yVW"
      },
      "execution_count": 111,
      "outputs": []
    },
    {
      "cell_type": "code",
      "source": [
        "newtrainloader=torch.utils.data.DataLoader(trainset,batch_size=128,shuffle=True)"
      ],
      "metadata": {
        "id": "WqZRmq1nTf3n"
      },
      "execution_count": 123,
      "outputs": []
    },
    {
      "cell_type": "code",
      "source": [
        "device=torch.device(\"cuda\" if torch.cuda.is_available() else 'cpu')\n",
        "trainforgen(modelforenc,model,newtrainloader,epochs=10,device=device)"
      ],
      "metadata": {
        "colab": {
          "base_uri": "https://localhost:8080/"
        },
        "id": "Wgzg0WlMsVYz",
        "outputId": "8b473b2a-d2b4-472e-df8a-141266014340"
      },
      "execution_count": 124,
      "outputs": [
        {
          "output_type": "stream",
          "name": "stdout",
          "text": [
            "epoch:0 batch=0 loss:0.0436556413769722\n",
            "epoch:0 batch=10 loss:0.044273313134908676\n",
            "epoch:0 batch=20 loss:0.046322617679834366\n",
            "epoch:0 batch=30 loss:0.040897730737924576\n",
            "epoch:0 batch=40 loss:0.042505476623773575\n",
            "epoch:0 batch=50 loss:0.04551776126027107\n",
            "epoch:0 batch=60 loss:0.044255297631025314\n",
            "epoch:0 batch=70 loss:0.04356555640697479\n",
            "epoch:0 batch=80 loss:0.04245081543922424\n",
            "epoch:0 batch=90 loss:0.042371805757284164\n",
            "epoch:0 batch=100 loss:0.0413791760802269\n",
            "epoch:0 batch=110 loss:0.04265811666846275\n",
            "epoch:0 batch=120 loss:0.040628258138895035\n",
            "epoch:0 batch=130 loss:0.04262005165219307\n",
            "epoch:0 batch=140 loss:0.04263034462928772\n",
            "epoch:0 batch=150 loss:0.04282480478286743\n",
            "epoch:0 batch=160 loss:0.04081512987613678\n",
            "epoch:0 batch=170 loss:0.04187946021556854\n",
            "epoch:0 batch=180 loss:0.04205167666077614\n",
            "epoch:0 batch=190 loss:0.03985815867781639\n",
            "epoch:0 batch=200 loss:0.037102676928043365\n",
            "epoch:0 batch=210 loss:0.040814246982336044\n",
            "epoch:0 batch=220 loss:0.04085560515522957\n",
            "epoch:0 batch=230 loss:0.03946399688720703\n",
            "epoch:0 batch=240 loss:0.04153992235660553\n",
            "epoch:0 batch=250 loss:0.041496895253658295\n",
            "epoch:0 batch=260 loss:0.04096284508705139\n",
            "epoch:0 batch=270 loss:0.040129538625478745\n",
            "epoch:0 batch=280 loss:0.04054884985089302\n",
            "epoch:0 batch=290 loss:0.040406644344329834\n",
            "epoch:0 batch=300 loss:0.04061121866106987\n",
            "epoch:0 batch=310 loss:0.038121018558740616\n",
            "epoch:0 batch=320 loss:0.03744182735681534\n",
            "epoch:0 batch=330 loss:0.03824155777692795\n",
            "epoch:0 batch=340 loss:0.039896607398986816\n",
            "epoch:0 batch=350 loss:0.0400567427277565\n",
            "epoch:0 batch=360 loss:0.040402963757514954\n",
            "epoch:0 batch=370 loss:0.041391775012016296\n",
            "epoch:0 batch=380 loss:0.04029585421085358\n",
            "epoch:0 batch=390 loss:0.03744414821267128\n",
            "epoch:0 batch=400 loss:0.04033680260181427\n",
            "epoch:0 batch=410 loss:0.04073208197951317\n",
            "epoch:0 batch=420 loss:0.04175906628370285\n",
            "epoch:0 loss:0.04139314679278864\n",
            "epoch:1 batch=0 loss:0.03903721645474434\n",
            "epoch:1 batch=10 loss:0.04217665642499924\n",
            "epoch:1 batch=20 loss:0.042844418436288834\n",
            "epoch:1 batch=30 loss:0.03835982084274292\n",
            "epoch:1 batch=40 loss:0.039766114205121994\n",
            "epoch:1 batch=50 loss:0.0413530096411705\n",
            "epoch:1 batch=60 loss:0.0389690101146698\n",
            "epoch:1 batch=70 loss:0.03975549340248108\n",
            "epoch:1 batch=80 loss:0.038563914597034454\n",
            "epoch:1 batch=90 loss:0.03923472762107849\n",
            "epoch:1 batch=100 loss:0.04004108905792236\n",
            "epoch:1 batch=110 loss:0.04131196439266205\n",
            "epoch:1 batch=120 loss:0.03927510231733322\n",
            "epoch:1 batch=130 loss:0.04334191977977753\n",
            "epoch:1 batch=140 loss:0.04026666656136513\n",
            "epoch:1 batch=150 loss:0.039007995277643204\n",
            "epoch:1 batch=160 loss:0.040329135954380035\n",
            "epoch:1 batch=170 loss:0.038860343396663666\n",
            "epoch:1 batch=180 loss:0.04225882515311241\n",
            "epoch:1 batch=190 loss:0.04336760938167572\n",
            "epoch:1 batch=200 loss:0.04102560505270958\n",
            "epoch:1 batch=210 loss:0.042401496320962906\n",
            "epoch:1 batch=220 loss:0.04028597101569176\n",
            "epoch:1 batch=230 loss:0.04012121632695198\n",
            "epoch:1 batch=240 loss:0.036930713802576065\n",
            "epoch:1 batch=250 loss:0.039992015808820724\n",
            "epoch:1 batch=260 loss:0.04219893366098404\n",
            "epoch:1 batch=270 loss:0.04000823572278023\n",
            "epoch:1 batch=280 loss:0.03889143466949463\n",
            "epoch:1 batch=290 loss:0.039199844002723694\n",
            "epoch:1 batch=300 loss:0.041650399565696716\n",
            "epoch:1 batch=310 loss:0.040346600115299225\n",
            "epoch:1 batch=320 loss:0.040202051401138306\n",
            "epoch:1 batch=330 loss:0.040113769471645355\n",
            "epoch:1 batch=340 loss:0.04158308357000351\n",
            "epoch:1 batch=350 loss:0.041343577206134796\n",
            "epoch:1 batch=360 loss:0.038819875568151474\n",
            "epoch:1 batch=370 loss:0.04049321636557579\n",
            "epoch:1 batch=380 loss:0.04132601246237755\n",
            "epoch:1 batch=390 loss:0.041696444153785706\n",
            "epoch:1 batch=400 loss:0.04010644927620888\n",
            "epoch:1 batch=410 loss:0.041280172765254974\n",
            "epoch:1 batch=420 loss:0.04047093167901039\n",
            "epoch:1 loss:0.04071003940592021\n",
            "epoch:2 batch=0 loss:0.0408344641327858\n",
            "epoch:2 batch=10 loss:0.038878049701452255\n",
            "epoch:2 batch=20 loss:0.04174533113837242\n",
            "epoch:2 batch=30 loss:0.03918693959712982\n",
            "epoch:2 batch=40 loss:0.039908889681100845\n",
            "epoch:2 batch=50 loss:0.04046929255127907\n",
            "epoch:2 batch=60 loss:0.0405045785009861\n",
            "epoch:2 batch=70 loss:0.040067240595817566\n",
            "epoch:2 batch=80 loss:0.03976800665259361\n",
            "epoch:2 batch=90 loss:0.040208231657743454\n",
            "epoch:2 batch=100 loss:0.040688950568437576\n",
            "epoch:2 batch=110 loss:0.036185164004564285\n",
            "epoch:2 batch=120 loss:0.04112982377409935\n",
            "epoch:2 batch=130 loss:0.03945064917206764\n",
            "epoch:2 batch=140 loss:0.03997604548931122\n",
            "epoch:2 batch=150 loss:0.03776004910469055\n",
            "epoch:2 batch=160 loss:0.04177498444914818\n",
            "epoch:2 batch=170 loss:0.040143419057130814\n",
            "epoch:2 batch=180 loss:0.038540828973054886\n",
            "epoch:2 batch=190 loss:0.04031629115343094\n",
            "epoch:2 batch=200 loss:0.03744500130414963\n",
            "epoch:2 batch=210 loss:0.04079924896359444\n",
            "epoch:2 batch=220 loss:0.03709529712796211\n",
            "epoch:2 batch=230 loss:0.03870147466659546\n",
            "epoch:2 batch=240 loss:0.04272161051630974\n",
            "epoch:2 batch=250 loss:0.03910060226917267\n",
            "epoch:2 batch=260 loss:0.04233580827713013\n",
            "epoch:2 batch=270 loss:0.03876563906669617\n",
            "epoch:2 batch=280 loss:0.04081021249294281\n",
            "epoch:2 batch=290 loss:0.037798892706632614\n",
            "epoch:2 batch=300 loss:0.036529120057821274\n",
            "epoch:2 batch=310 loss:0.04042976722121239\n",
            "epoch:2 batch=320 loss:0.04088159650564194\n",
            "epoch:2 batch=330 loss:0.039366647601127625\n",
            "epoch:2 batch=340 loss:0.03810803219676018\n",
            "epoch:2 batch=350 loss:0.03903673589229584\n",
            "epoch:2 batch=360 loss:0.040017738938331604\n",
            "epoch:2 batch=370 loss:0.03779635578393936\n",
            "epoch:2 batch=380 loss:0.03795043006539345\n",
            "epoch:2 batch=390 loss:0.03881271183490753\n",
            "epoch:2 batch=400 loss:0.04182460904121399\n",
            "epoch:2 batch=410 loss:0.039703041315078735\n",
            "epoch:2 batch=420 loss:0.040888573974370956\n",
            "epoch:2 loss:0.040431118292195534\n",
            "epoch:3 batch=0 loss:0.04088284447789192\n",
            "epoch:3 batch=10 loss:0.03930843621492386\n",
            "epoch:3 batch=20 loss:0.0379105806350708\n",
            "epoch:3 batch=30 loss:0.04078381136059761\n",
            "epoch:3 batch=40 loss:0.04260784387588501\n",
            "epoch:3 batch=50 loss:0.03795431926846504\n",
            "epoch:3 batch=60 loss:0.03929227590560913\n",
            "epoch:3 batch=70 loss:0.04088965803384781\n",
            "epoch:3 batch=80 loss:0.03869006782770157\n",
            "epoch:3 batch=90 loss:0.03968867287039757\n",
            "epoch:3 batch=100 loss:0.0386686697602272\n",
            "epoch:3 batch=110 loss:0.04087807983160019\n",
            "epoch:3 batch=120 loss:0.03965499624609947\n",
            "epoch:3 batch=130 loss:0.03895598277449608\n",
            "epoch:3 batch=140 loss:0.03944513574242592\n",
            "epoch:3 batch=150 loss:0.040245965123176575\n",
            "epoch:3 batch=160 loss:0.03963674604892731\n",
            "epoch:3 batch=170 loss:0.03924534097313881\n",
            "epoch:3 batch=180 loss:0.039262205362319946\n",
            "epoch:3 batch=190 loss:0.037823572754859924\n",
            "epoch:3 batch=200 loss:0.037330567836761475\n",
            "epoch:3 batch=210 loss:0.039352718740701675\n",
            "epoch:3 batch=220 loss:0.04207349568605423\n",
            "epoch:3 batch=230 loss:0.04019470512866974\n",
            "epoch:3 batch=240 loss:0.037840429693460464\n",
            "epoch:3 batch=250 loss:0.04047388210892677\n",
            "epoch:3 batch=260 loss:0.03985769301652908\n",
            "epoch:3 batch=270 loss:0.03929855301976204\n",
            "epoch:3 batch=280 loss:0.038564667105674744\n",
            "epoch:3 batch=290 loss:0.039790913462638855\n",
            "epoch:3 batch=300 loss:0.040217168629169464\n",
            "epoch:3 batch=310 loss:0.041071370244026184\n",
            "epoch:3 batch=320 loss:0.041174352169036865\n",
            "epoch:3 batch=330 loss:0.03727448731660843\n",
            "epoch:3 batch=340 loss:0.040767136961221695\n",
            "epoch:3 batch=350 loss:0.04126109182834625\n",
            "epoch:3 batch=360 loss:0.03826676309108734\n",
            "epoch:3 batch=370 loss:0.03714975714683533\n",
            "epoch:3 batch=380 loss:0.04023830592632294\n",
            "epoch:3 batch=390 loss:0.03956630825996399\n",
            "epoch:3 batch=400 loss:0.04257858917117119\n",
            "epoch:3 batch=410 loss:0.03556925430893898\n",
            "epoch:3 batch=420 loss:0.04097352549433708\n",
            "epoch:3 loss:0.040280579779102904\n",
            "epoch:4 batch=0 loss:0.03898371756076813\n",
            "epoch:4 batch=10 loss:0.0402294285595417\n",
            "epoch:4 batch=20 loss:0.04082479327917099\n",
            "epoch:4 batch=30 loss:0.041058268398046494\n",
            "epoch:4 batch=40 loss:0.03851712867617607\n",
            "epoch:4 batch=50 loss:0.03935351222753525\n",
            "epoch:4 batch=60 loss:0.039350174367427826\n",
            "epoch:4 batch=70 loss:0.03863745927810669\n",
            "epoch:4 batch=80 loss:0.04037129506468773\n",
            "epoch:4 batch=90 loss:0.043753113597631454\n",
            "epoch:4 batch=100 loss:0.03862737864255905\n",
            "epoch:4 batch=110 loss:0.039969101548194885\n",
            "epoch:4 batch=120 loss:0.03850486874580383\n",
            "epoch:4 batch=130 loss:0.03905618190765381\n",
            "epoch:4 batch=140 loss:0.03922363370656967\n",
            "epoch:4 batch=150 loss:0.03825884312391281\n",
            "epoch:4 batch=160 loss:0.038544438779354095\n",
            "epoch:4 batch=170 loss:0.03715500608086586\n",
            "epoch:4 batch=180 loss:0.040107693523168564\n",
            "epoch:4 batch=190 loss:0.04023535177111626\n",
            "epoch:4 batch=200 loss:0.04087228700518608\n",
            "epoch:4 batch=210 loss:0.03832981362938881\n",
            "epoch:4 batch=220 loss:0.04162762686610222\n",
            "epoch:4 batch=230 loss:0.04148475080728531\n",
            "epoch:4 batch=240 loss:0.04000948742032051\n",
            "epoch:4 batch=250 loss:0.03946882486343384\n",
            "epoch:4 batch=260 loss:0.03959772363305092\n",
            "epoch:4 batch=270 loss:0.03949084132909775\n",
            "epoch:4 batch=280 loss:0.03958730399608612\n",
            "epoch:4 batch=290 loss:0.040952734649181366\n",
            "epoch:4 batch=300 loss:0.0410701148211956\n",
            "epoch:4 batch=310 loss:0.038086242973804474\n",
            "epoch:4 batch=320 loss:0.03859345614910126\n",
            "epoch:4 batch=330 loss:0.03901754692196846\n",
            "epoch:4 batch=340 loss:0.042407646775245667\n",
            "epoch:4 batch=350 loss:0.040860675275325775\n",
            "epoch:4 batch=360 loss:0.039443667978048325\n",
            "epoch:4 batch=370 loss:0.03673519194126129\n",
            "epoch:4 batch=380 loss:0.03809737414121628\n",
            "epoch:4 batch=390 loss:0.03894086927175522\n",
            "epoch:4 batch=400 loss:0.04021536186337471\n",
            "epoch:4 batch=410 loss:0.04066783934831619\n",
            "epoch:4 batch=420 loss:0.04052218794822693\n",
            "epoch:4 loss:0.04018637907660403\n",
            "epoch:5 batch=0 loss:0.042078036814928055\n",
            "epoch:5 batch=10 loss:0.037932898849248886\n",
            "epoch:5 batch=20 loss:0.0364854596555233\n",
            "epoch:5 batch=30 loss:0.0367271713912487\n",
            "epoch:5 batch=40 loss:0.04003344848752022\n",
            "epoch:5 batch=50 loss:0.037470459938049316\n",
            "epoch:5 batch=60 loss:0.03970414400100708\n",
            "epoch:5 batch=70 loss:0.038858186453580856\n",
            "epoch:5 batch=80 loss:0.039648693054914474\n",
            "epoch:5 batch=90 loss:0.04224688559770584\n",
            "epoch:5 batch=100 loss:0.037708181887865067\n",
            "epoch:5 batch=110 loss:0.03935376554727554\n",
            "epoch:5 batch=120 loss:0.040065545588731766\n",
            "epoch:5 batch=130 loss:0.03671957552433014\n",
            "epoch:5 batch=140 loss:0.038410965353250504\n",
            "epoch:5 batch=150 loss:0.037479110062122345\n",
            "epoch:5 batch=160 loss:0.04014094918966293\n",
            "epoch:5 batch=170 loss:0.038333166390657425\n",
            "epoch:5 batch=180 loss:0.03980211913585663\n",
            "epoch:5 batch=190 loss:0.03958728909492493\n",
            "epoch:5 batch=200 loss:0.03951193392276764\n",
            "epoch:5 batch=210 loss:0.04158427193760872\n",
            "epoch:5 batch=220 loss:0.0401473306119442\n",
            "epoch:5 batch=230 loss:0.03790327534079552\n",
            "epoch:5 batch=240 loss:0.040094856172800064\n",
            "epoch:5 batch=250 loss:0.040312036871910095\n",
            "epoch:5 batch=260 loss:0.036898110061883926\n",
            "epoch:5 batch=270 loss:0.04058614373207092\n",
            "epoch:5 batch=280 loss:0.038950223475694656\n",
            "epoch:5 batch=290 loss:0.04033639654517174\n",
            "epoch:5 batch=300 loss:0.04081322252750397\n",
            "epoch:5 batch=310 loss:0.038944847881793976\n",
            "epoch:5 batch=320 loss:0.04068242013454437\n",
            "epoch:5 batch=330 loss:0.03941415250301361\n",
            "epoch:5 batch=340 loss:0.03955478221178055\n",
            "epoch:5 batch=350 loss:0.035868749022483826\n",
            "epoch:5 batch=360 loss:0.037603192031383514\n",
            "epoch:5 batch=370 loss:0.040987417101860046\n",
            "epoch:5 batch=380 loss:0.04107002913951874\n",
            "epoch:5 batch=390 loss:0.03952447697520256\n",
            "epoch:5 batch=400 loss:0.042972613126039505\n",
            "epoch:5 batch=410 loss:0.04087819159030914\n",
            "epoch:5 batch=420 loss:0.0396997332572937\n",
            "epoch:5 loss:0.040120918411131815\n",
            "epoch:6 batch=0 loss:0.040451448410749435\n",
            "epoch:6 batch=10 loss:0.03937377408146858\n",
            "epoch:6 batch=20 loss:0.0393318310379982\n",
            "epoch:6 batch=30 loss:0.03910032659769058\n",
            "epoch:6 batch=40 loss:0.04169083386659622\n",
            "epoch:6 batch=50 loss:0.039076317101716995\n",
            "epoch:6 batch=60 loss:0.03722897171974182\n",
            "epoch:6 batch=70 loss:0.03813544288277626\n",
            "epoch:6 batch=80 loss:0.03824504092335701\n",
            "epoch:6 batch=90 loss:0.03969895839691162\n",
            "epoch:6 batch=100 loss:0.039586883038282394\n",
            "epoch:6 batch=110 loss:0.04177992045879364\n",
            "epoch:6 batch=120 loss:0.04121968150138855\n",
            "epoch:6 batch=130 loss:0.036309678107500076\n",
            "epoch:6 batch=140 loss:0.03668108582496643\n",
            "epoch:6 batch=150 loss:0.041172198951244354\n",
            "epoch:6 batch=160 loss:0.042506393045186996\n",
            "epoch:6 batch=170 loss:0.03812131658196449\n",
            "epoch:6 batch=180 loss:0.03865356743335724\n",
            "epoch:6 batch=190 loss:0.0382375530898571\n",
            "epoch:6 batch=200 loss:0.0396575964987278\n",
            "epoch:6 batch=210 loss:0.039607204496860504\n",
            "epoch:6 batch=220 loss:0.04103923961520195\n",
            "epoch:6 batch=230 loss:0.04283739626407623\n",
            "epoch:6 batch=240 loss:0.0369754359126091\n",
            "epoch:6 batch=250 loss:0.04005300626158714\n",
            "epoch:6 batch=260 loss:0.040417563170194626\n",
            "epoch:6 batch=270 loss:0.03866682946681976\n",
            "epoch:6 batch=280 loss:0.03884711489081383\n",
            "epoch:6 batch=290 loss:0.03776058927178383\n",
            "epoch:6 batch=300 loss:0.040857914835214615\n",
            "epoch:6 batch=310 loss:0.03937786817550659\n",
            "epoch:6 batch=320 loss:0.040386419743299484\n",
            "epoch:6 batch=330 loss:0.04226406291127205\n",
            "epoch:6 batch=340 loss:0.0400049164891243\n",
            "epoch:6 batch=350 loss:0.041744157671928406\n",
            "epoch:6 batch=360 loss:0.03999903053045273\n",
            "epoch:6 batch=370 loss:0.04106505587697029\n",
            "epoch:6 batch=380 loss:0.03843251243233681\n",
            "epoch:6 batch=390 loss:0.03667566552758217\n",
            "epoch:6 batch=400 loss:0.0384671613574028\n",
            "epoch:6 batch=410 loss:0.04143190011382103\n",
            "epoch:6 batch=420 loss:0.03932640701532364\n",
            "epoch:6 loss:0.04007350169904101\n",
            "epoch:7 batch=0 loss:0.04050742834806442\n",
            "epoch:7 batch=10 loss:0.04113622382283211\n",
            "epoch:7 batch=20 loss:0.039960917085409164\n",
            "epoch:7 batch=30 loss:0.039709463715553284\n",
            "epoch:7 batch=40 loss:0.038390133529901505\n",
            "epoch:7 batch=50 loss:0.03890639543533325\n",
            "epoch:7 batch=60 loss:0.041833773255348206\n",
            "epoch:7 batch=70 loss:0.03905152529478073\n",
            "epoch:7 batch=80 loss:0.03966803103685379\n",
            "epoch:7 batch=90 loss:0.0401829332113266\n",
            "epoch:7 batch=100 loss:0.04177815094590187\n",
            "epoch:7 batch=110 loss:0.03969429060816765\n",
            "epoch:7 batch=120 loss:0.03989259526133537\n",
            "epoch:7 batch=130 loss:0.038340844213962555\n",
            "epoch:7 batch=140 loss:0.037682436406612396\n",
            "epoch:7 batch=150 loss:0.04196137562394142\n",
            "epoch:7 batch=160 loss:0.040775198489427567\n",
            "epoch:7 batch=170 loss:0.03954349830746651\n",
            "epoch:7 batch=180 loss:0.04099811613559723\n",
            "epoch:7 batch=190 loss:0.040102846920490265\n",
            "epoch:7 batch=200 loss:0.042688123881816864\n",
            "epoch:7 batch=210 loss:0.03876952826976776\n",
            "epoch:7 batch=220 loss:0.037972141057252884\n",
            "epoch:7 batch=230 loss:0.03716868534684181\n",
            "epoch:7 batch=240 loss:0.038962289690971375\n",
            "epoch:7 batch=250 loss:0.04121159762144089\n",
            "epoch:7 batch=260 loss:0.03730418533086777\n",
            "epoch:7 batch=270 loss:0.03971821814775467\n",
            "epoch:7 batch=280 loss:0.037703923881053925\n",
            "epoch:7 batch=290 loss:0.039180174469947815\n",
            "epoch:7 batch=300 loss:0.041005685925483704\n",
            "epoch:7 batch=310 loss:0.03965145722031593\n",
            "epoch:7 batch=320 loss:0.03889467939734459\n",
            "epoch:7 batch=330 loss:0.04119497537612915\n",
            "epoch:7 batch=340 loss:0.03616584464907646\n",
            "epoch:7 batch=350 loss:0.03923984616994858\n",
            "epoch:7 batch=360 loss:0.03852718323469162\n",
            "epoch:7 batch=370 loss:0.04019811749458313\n",
            "epoch:7 batch=380 loss:0.04195536673069\n",
            "epoch:7 batch=390 loss:0.03951619192957878\n",
            "epoch:7 batch=400 loss:0.0379018560051918\n",
            "epoch:7 batch=410 loss:0.03906090557575226\n",
            "epoch:7 batch=420 loss:0.04012467712163925\n",
            "epoch:7 loss:0.04003719073583447\n",
            "epoch:8 batch=0 loss:0.041363004595041275\n",
            "epoch:8 batch=10 loss:0.04035525768995285\n",
            "epoch:8 batch=20 loss:0.04474884644150734\n",
            "epoch:8 batch=30 loss:0.03707944229245186\n",
            "epoch:8 batch=40 loss:0.03988298028707504\n",
            "epoch:8 batch=50 loss:0.04166029393672943\n",
            "epoch:8 batch=60 loss:0.036823779344558716\n",
            "epoch:8 batch=70 loss:0.04264364764094353\n",
            "epoch:8 batch=80 loss:0.03690601885318756\n",
            "epoch:8 batch=90 loss:0.037417612969875336\n",
            "epoch:8 batch=100 loss:0.03844960033893585\n",
            "epoch:8 batch=110 loss:0.03887761011719704\n",
            "epoch:8 batch=120 loss:0.03773710876703262\n",
            "epoch:8 batch=130 loss:0.03980351611971855\n",
            "epoch:8 batch=140 loss:0.03919127210974693\n",
            "epoch:8 batch=150 loss:0.039662715047597885\n",
            "epoch:8 batch=160 loss:0.03831186890602112\n",
            "epoch:8 batch=170 loss:0.0403221920132637\n",
            "epoch:8 batch=180 loss:0.042006492614746094\n",
            "epoch:8 batch=190 loss:0.038502130657434464\n",
            "epoch:8 batch=200 loss:0.037402503192424774\n",
            "epoch:8 batch=210 loss:0.04175633192062378\n",
            "epoch:8 batch=220 loss:0.0408528596162796\n",
            "epoch:8 batch=230 loss:0.0405491478741169\n",
            "epoch:8 batch=240 loss:0.03931625932455063\n",
            "epoch:8 batch=250 loss:0.03890557959675789\n",
            "epoch:8 batch=260 loss:0.040962785482406616\n",
            "epoch:8 batch=270 loss:0.04262650012969971\n",
            "epoch:8 batch=280 loss:0.039578262716531754\n",
            "epoch:8 batch=290 loss:0.038143038749694824\n",
            "epoch:8 batch=300 loss:0.039981916546821594\n",
            "epoch:8 batch=310 loss:0.04149084910750389\n",
            "epoch:8 batch=320 loss:0.038771774619817734\n",
            "epoch:8 batch=330 loss:0.04093583673238754\n",
            "epoch:8 batch=340 loss:0.03946860879659653\n",
            "epoch:8 batch=350 loss:0.03940323367714882\n",
            "epoch:8 batch=360 loss:0.0393533930182457\n",
            "epoch:8 batch=370 loss:0.039916347712278366\n",
            "epoch:8 batch=380 loss:0.03866610303521156\n",
            "epoch:8 batch=390 loss:0.040110230445861816\n",
            "epoch:8 batch=400 loss:0.04027421399950981\n",
            "epoch:8 batch=410 loss:0.04076281189918518\n",
            "epoch:8 batch=420 loss:0.038508880883455276\n",
            "epoch:8 loss:0.040009320979882\n",
            "epoch:9 batch=0 loss:0.04094521701335907\n",
            "epoch:9 batch=10 loss:0.03862139210104942\n",
            "epoch:9 batch=20 loss:0.038883160799741745\n",
            "epoch:9 batch=30 loss:0.03824559971690178\n",
            "epoch:9 batch=40 loss:0.04116281121969223\n",
            "epoch:9 batch=50 loss:0.041050150990486145\n",
            "epoch:9 batch=60 loss:0.04100365564227104\n",
            "epoch:9 batch=70 loss:0.04079405590891838\n",
            "epoch:9 batch=80 loss:0.04210568591952324\n",
            "epoch:9 batch=90 loss:0.037976767867803574\n",
            "epoch:9 batch=100 loss:0.03826296702027321\n",
            "epoch:9 batch=110 loss:0.03923925757408142\n",
            "epoch:9 batch=120 loss:0.04120182245969772\n",
            "epoch:9 batch=130 loss:0.04066179692745209\n",
            "epoch:9 batch=140 loss:0.04024209827184677\n",
            "epoch:9 batch=150 loss:0.038960278034210205\n",
            "epoch:9 batch=160 loss:0.04105231910943985\n",
            "epoch:9 batch=170 loss:0.03799373283982277\n",
            "epoch:9 batch=180 loss:0.03871523588895798\n",
            "epoch:9 batch=190 loss:0.039342306554317474\n",
            "epoch:9 batch=200 loss:0.04097382351756096\n",
            "epoch:9 batch=210 loss:0.042608655989170074\n",
            "epoch:9 batch=220 loss:0.040853116661310196\n",
            "epoch:9 batch=230 loss:0.0397607795894146\n",
            "epoch:9 batch=240 loss:0.040634170174598694\n",
            "epoch:9 batch=250 loss:0.04009857028722763\n",
            "epoch:9 batch=260 loss:0.040983304381370544\n",
            "epoch:9 batch=270 loss:0.03991652652621269\n",
            "epoch:9 batch=280 loss:0.039914317429065704\n",
            "epoch:9 batch=290 loss:0.04177234694361687\n",
            "epoch:9 batch=300 loss:0.03749643266201019\n",
            "epoch:9 batch=310 loss:0.04154049605131149\n",
            "epoch:9 batch=320 loss:0.040096160024404526\n",
            "epoch:9 batch=330 loss:0.039427656680345535\n",
            "epoch:9 batch=340 loss:0.04228188842535019\n",
            "epoch:9 batch=350 loss:0.03931182622909546\n",
            "epoch:9 batch=360 loss:0.040667690336704254\n",
            "epoch:9 batch=370 loss:0.039830245077610016\n",
            "epoch:9 batch=380 loss:0.040338534861803055\n",
            "epoch:9 batch=390 loss:0.042878806591033936\n",
            "epoch:9 batch=400 loss:0.03637537360191345\n",
            "epoch:9 batch=410 loss:0.03680633753538132\n",
            "epoch:9 batch=420 loss:0.036223508417606354\n",
            "epoch:9 loss:0.0399862486595438\n"
          ]
        }
      ]
    },
    {
      "cell_type": "code",
      "source": [
        "torch.save(modelforenc.state_dict(),'modelforencfinal.pth')"
      ],
      "metadata": {
        "id": "qrgjtIc2wHNw"
      },
      "execution_count": 125,
      "outputs": []
    },
    {
      "cell_type": "code",
      "source": [
        "def runr(lab,modelforencc=modelforenc,modelfordecc=model):\n",
        "  x=torch.zeros(10)\n",
        "  x[lab]=1\n",
        "  x=x.view(10,1,1)\n",
        "  x=x.to(device)\n",
        "  x=x.unsqueeze(0)\n",
        "  #print(x)\n",
        "\n",
        "  modelforencc.eval()\n",
        "  modelfordecc.eval()\n",
        "\n",
        "  enc=modelforencc(x)\n",
        "  out=modelfordecc.decoder(enc)\n",
        "  return out\n"
      ],
      "metadata": {
        "id": "ibXT4FuE2tDV"
      },
      "execution_count": 126,
      "outputs": []
    },
    {
      "cell_type": "code",
      "source": [
        "out=runr(0)\n",
        "plt.imshow(out.detach().cpu().squeeze(0,1))"
      ],
      "metadata": {
        "colab": {
          "base_uri": "https://localhost:8080/",
          "height": 447
        },
        "id": "gHS-_6z14dJ_",
        "outputId": "c1405ca9-e747-4157-a29e-0071c3115b49"
      },
      "execution_count": 129,
      "outputs": [
        {
          "output_type": "execute_result",
          "data": {
            "text/plain": [
              "<matplotlib.image.AxesImage at 0x7e0b5cf4b250>"
            ]
          },
          "metadata": {},
          "execution_count": 129
        },
        {
          "output_type": "display_data",
          "data": {
            "text/plain": [
              "<Figure size 640x480 with 1 Axes>"
            ],
            "image/png": "[encoded data removed]"
          },
          "metadata": {}
        }
      ]
    },
    {
      "cell_type": "code",
      "source": [
        "plt.figure(figsize=(20, 4))\n",
        "for i in range(10):\n",
        "    ax = plt.subplot(1, 10, i+1)\n",
        "    out=runr(i)\n",
        "    plt.imshow(out.detach().cpu().squeeze(0,1),cmap='gray')\n",
        "    ax.set_title(f\"Label: {i}\")\n",
        "    plt.axis('off')\n",
        "plt.tight_layout()\n",
        "plt.show()"
      ],
      "metadata": {
        "colab": {
          "base_uri": "https://localhost:8080/",
          "height": 122
        },
        "id": "-i9GkYrKbGct",
        "outputId": "4bef2006-3806-4d49-f89f-97e3034d5137"
      },
      "execution_count": 132,
      "outputs": [
        {
          "output_type": "display_data",
          "data": {
            "text/plain": [
              "<Figure size 2000x400 with 10 Axes>"
            ],
            "image/png": "[encoded data removed]"
          },
          "metadata": {}
        }
      ]
    }
  ]
}