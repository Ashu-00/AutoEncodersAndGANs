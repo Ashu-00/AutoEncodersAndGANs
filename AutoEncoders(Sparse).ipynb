{
  "nbformat": 4,
  "nbformat_minor": 0,
  "metadata": {
    "colab": {
      "provenance": [],
      "gpuType": "T4",
      "authorship_tag": "ABX9TyOT3tAC1irAGdWYDwCtcOMp",
      "include_colab_link": true
    },
    "kernelspec": {
      "name": "python3",
      "display_name": "Python 3"
    },
    "language_info": {
      "name": "python"
    },
    "accelerator": "GPU"
  },
  "cells": [
    {
      "cell_type": "markdown",
      "metadata": {
        "id": "view-in-github",
        "colab_type": "text"
      },
      "source": [
        "<a href=\"https://colab.research.google.com/github/Ashu-00/AutoEncodersAndGenerators/blob/main/AutoEncoders(Sparse).ipynb\" target=\"_parent\"><img src=\"https://colab.research.google.com/assets/colab-badge.svg\" alt=\"Open In Colab\"/></a>"
      ]
    },
    {
      "cell_type": "code",
      "execution_count": null,
      "metadata": {
        "id": "1-jIrHUwxq3Z"
      },
      "outputs": [],
      "source": [
        "import torch\n",
        "import torch.nn as nn\n",
        "import torch.nn.functional as F\n",
        "import torch.optim as optim\n",
        "import torchvision"
      ]
    },
    {
      "cell_type": "code",
      "source": [
        "dataset=torchvision.datasets.MNIST('data',train=True,download=True,transform=torchvision.transforms.ToTensor())"
      ],
      "metadata": {
        "colab": {
          "base_uri": "https://localhost:8080/"
        },
        "id": "TKaD4RHrxzzO",
        "outputId": "d5abf290-2a93-48b1-bd21-9f03ebd88696"
      },
      "execution_count": null,
      "outputs": [
        {
          "output_type": "stream",
          "name": "stdout",
          "text": [
            "Downloading http://yann.lecun.com/exdb/mnist/train-images-idx3-ubyte.gz\n",
            "Failed to download (trying next):\n",
            "HTTP Error 403: Forbidden\n",
            "\n",
            "Downloading https://ossci-datasets.s3.amazonaws.com/mnist/train-images-idx3-ubyte.gz\n",
            "Downloading https://ossci-datasets.s3.amazonaws.com/mnist/train-images-idx3-ubyte.gz to data/MNIST/raw/train-images-idx3-ubyte.gz\n"
          ]
        },
        {
          "output_type": "stream",
          "name": "stderr",
          "text": [
            "100%|██████████| 9912422/9912422 [00:10<00:00, 912985.69it/s] \n"
          ]
        },
        {
          "output_type": "stream",
          "name": "stdout",
          "text": [
            "Extracting data/MNIST/raw/train-images-idx3-ubyte.gz to data/MNIST/raw\n",
            "\n",
            "Downloading http://yann.lecun.com/exdb/mnist/train-labels-idx1-ubyte.gz\n",
            "Failed to download (trying next):\n",
            "HTTP Error 403: Forbidden\n",
            "\n",
            "Downloading https://ossci-datasets.s3.amazonaws.com/mnist/train-labels-idx1-ubyte.gz\n",
            "Downloading https://ossci-datasets.s3.amazonaws.com/mnist/train-labels-idx1-ubyte.gz to data/MNIST/raw/train-labels-idx1-ubyte.gz\n"
          ]
        },
        {
          "output_type": "stream",
          "name": "stderr",
          "text": [
            "100%|██████████| 28881/28881 [00:00<00:00, 135045.07it/s]\n"
          ]
        },
        {
          "output_type": "stream",
          "name": "stdout",
          "text": [
            "Extracting data/MNIST/raw/train-labels-idx1-ubyte.gz to data/MNIST/raw\n",
            "\n",
            "Downloading http://yann.lecun.com/exdb/mnist/t10k-images-idx3-ubyte.gz\n",
            "Failed to download (trying next):\n",
            "HTTP Error 403: Forbidden\n",
            "\n",
            "Downloading https://ossci-datasets.s3.amazonaws.com/mnist/t10k-images-idx3-ubyte.gz\n",
            "Downloading https://ossci-datasets.s3.amazonaws.com/mnist/t10k-images-idx3-ubyte.gz to data/MNIST/raw/t10k-images-idx3-ubyte.gz\n"
          ]
        },
        {
          "output_type": "stream",
          "name": "stderr",
          "text": [
            "100%|██████████| 1648877/1648877 [00:01<00:00, 1069875.51it/s]\n"
          ]
        },
        {
          "output_type": "stream",
          "name": "stdout",
          "text": [
            "Extracting data/MNIST/raw/t10k-images-idx3-ubyte.gz to data/MNIST/raw\n",
            "\n",
            "Downloading http://yann.lecun.com/exdb/mnist/t10k-labels-idx1-ubyte.gz\n",
            "Failed to download (trying next):\n",
            "HTTP Error 403: Forbidden\n",
            "\n",
            "Downloading https://ossci-datasets.s3.amazonaws.com/mnist/t10k-labels-idx1-ubyte.gz\n",
            "Downloading https://ossci-datasets.s3.amazonaws.com/mnist/t10k-labels-idx1-ubyte.gz to data/MNIST/raw/t10k-labels-idx1-ubyte.gz\n"
          ]
        },
        {
          "output_type": "stream",
          "name": "stderr",
          "text": [
            "100%|██████████| 4542/4542 [00:00<00:00, 4214718.75it/s]"
          ]
        },
        {
          "output_type": "stream",
          "name": "stdout",
          "text": [
            "Extracting data/MNIST/raw/t10k-labels-idx1-ubyte.gz to data/MNIST/raw\n",
            "\n"
          ]
        },
        {
          "output_type": "stream",
          "name": "stderr",
          "text": [
            "\n"
          ]
        }
      ]
    },
    {
      "cell_type": "code",
      "source": [
        "dataset"
      ],
      "metadata": {
        "colab": {
          "base_uri": "https://localhost:8080/"
        },
        "id": "1L2YHhoLybbi",
        "outputId": "8158e1ce-4568-42c3-caf2-44e50da45934"
      },
      "execution_count": null,
      "outputs": [
        {
          "output_type": "execute_result",
          "data": {
            "text/plain": [
              "Dataset MNIST\n",
              "    Number of datapoints: 60000\n",
              "    Root location: data\n",
              "    Split: Train\n",
              "    StandardTransform\n",
              "Transform: ToTensor()"
            ]
          },
          "metadata": {},
          "execution_count": 3
        }
      ]
    },
    {
      "cell_type": "code",
      "source": [
        "generator1 = torch.Generator().manual_seed(42)\n",
        "trainset,testset=torch.utils.data.random_split(dataset,[0.9,0.1],generator=generator1)"
      ],
      "metadata": {
        "id": "5I9NasoFyfIB"
      },
      "execution_count": null,
      "outputs": []
    },
    {
      "cell_type": "code",
      "source": [
        "import matplotlib.pyplot as plt\n",
        "plt.imshow(trainset[0][0].squeeze(0))"
      ],
      "metadata": {
        "colab": {
          "base_uri": "https://localhost:8080/",
          "height": 447
        },
        "id": "_eCtFpsKzq4b",
        "outputId": "e96c8e8b-09d3-42b7-f283-df6c002acf66"
      },
      "execution_count": null,
      "outputs": [
        {
          "output_type": "execute_result",
          "data": {
            "text/plain": [
              "<matplotlib.image.AxesImage at 0x7e34aea023b0>"
            ]
          },
          "metadata": {},
          "execution_count": 5
        },
        {
          "output_type": "display_data",
          "data": {
            "text/plain": [
              "<Figure size 640x480 with 1 Axes>"
            ],
            "image/png": "[encoded data removed]"
          },
          "metadata": {}
        }
      ]
    },
    {
      "cell_type": "code",
      "source": [
        "class SparseAE(nn.Module):\n",
        "  def __init__(self):\n",
        "    super().__init__()\n",
        "\n",
        "    self.enc1 = nn.Conv2d(1,8,3,stride=1)\n",
        "    self.enc2 = nn.Conv2d(8,16,5,stride=1)\n",
        "    self.enc3 = nn.Conv2d(16,32,5,stride=2)\n",
        "    self.bottle = nn.MaxPool2d(2, 2)\n",
        "\n",
        "    self.dec1 = nn.ConvTranspose2d(32,16,3, stride=2)\n",
        "    self.dec2 = nn.ConvTranspose2d(16,8,5, stride=2)\n",
        "    self.dec3 = nn.ConvTranspose2d(8,1,8, stride=1)\n",
        "\n",
        "  def encoder(self,x):\n",
        "    x=F.relu(self.enc1(x))\n",
        "    x=F.relu(self.enc2(x))\n",
        "    x=F.relu(self.enc3(x))\n",
        "    x=self.bottle(x)\n",
        "    return x\n",
        "\n",
        "  def decoder(self,x):\n",
        "    x=F.relu(self.dec1(x))\n",
        "    x=F.relu(self.dec2(x))\n",
        "    x=torch.sigmoid(self.dec3(x))\n",
        "    return x\n",
        "\n",
        "\n",
        "  def forward(self,x):\n",
        "    x=self.encoder(x)\n",
        "    x=self.decoder(x)\n",
        "    return x\n",
        "\n",
        "  def forwardwithlayers(self,x):\n",
        "    layers=[]\n",
        "    x1=F.relu(self.enc1(x))\n",
        "    layers.append(x1)\n",
        "    x2=F.relu(self.enc2(x1))\n",
        "    layers.append(x2)\n",
        "    x3=F.relu(self.enc3(x2))\n",
        "    layers.append(x3)\n",
        "    x4=self.bottle(x3)\n",
        "    layers.append(x4)\n",
        "    x5=F.relu(self.dec1(x4))\n",
        "    layers.append(x5)\n",
        "    x6=F.relu(self.dec2(x5))\n",
        "    layers.append(x6)\n",
        "    xans=torch.sigmoid(self.dec3(x6))\n",
        "    return xans,layers\n"
      ],
      "metadata": {
        "id": "1qUhzZ-b0x_j"
      },
      "execution_count": null,
      "outputs": []
    },
    {
      "cell_type": "code",
      "source": [
        "def l1_reg(layers, lambda_=4e-5):\n",
        "  loss = 0\n",
        "  for i in layers:\n",
        "    loss += torch.mean(torch.abs(i))\n",
        "\n",
        "  return lambda_*loss"
      ],
      "metadata": {
        "id": "TnB3avMndEQC"
      },
      "execution_count": null,
      "outputs": []
    },
    {
      "cell_type": "code",
      "source": [
        "def train(model,train_loader,epochs=3,lr=9e-3,device=\"cpu\"):\n",
        "  model.train()\n",
        "  model.to(device)\n",
        "  optimizer=optim.Adam(model.parameters(),lr=lr)\n",
        "  lossfunc=nn.BCELoss()\n",
        "  lossavg=0\n",
        "\n",
        "  for epoch in range(epochs):\n",
        "    for (bid,(inp,lab)) in enumerate(train_loader):\n",
        "      inp=inp.to(device)\n",
        "      optimizer.zero_grad()\n",
        "      #lab=lab.to(device)\n",
        "      out,layers=model.forwardwithlayers(inp)\n",
        "      loss=lossfunc(out,inp)\n",
        "      loss+=l1_reg(layers)\n",
        "      loss.backward()\n",
        "      optimizer.step()\n",
        "      lossavg+=loss.item()\n",
        "      if bid%10==0:\n",
        "        print(f\"epoch:{epoch} batch={bid} loss:{loss.item()}\")\n",
        "\n",
        "    print(f\"epoch:{epoch} loss:{lossavg/len(train_loader)}\")\n"
      ],
      "metadata": {
        "id": "8KLeE5BtXlKB"
      },
      "execution_count": null,
      "outputs": []
    },
    {
      "cell_type": "code",
      "source": [
        "trainloader=torch.utils.data.DataLoader(trainset,batch_size=128,shuffle=True)\n",
        "testloader=torch.utils.data.DataLoader(testset,batch_size=128,shuffle=False)"
      ],
      "metadata": {
        "id": "seS4GJjeaRKn"
      },
      "execution_count": null,
      "outputs": []
    },
    {
      "cell_type": "code",
      "source": [
        "model=SparseAE()\n",
        "device=torch.device(\"cuda\" if torch.cuda.is_available() else 'cpu')\n",
        "train(model,trainloader,epochs=1,device=device)"
      ],
      "metadata": {
        "colab": {
          "base_uri": "https://localhost:8080/"
        },
        "id": "EygzJcigaWCj",
        "outputId": "358daab4-7738-4237-8e5d-8729e5600572"
      },
      "execution_count": null,
      "outputs": [
        {
          "output_type": "stream",
          "name": "stderr",
          "text": [
            "/usr/local/lib/python3.10/dist-packages/torch/autograd/graph.py:744: UserWarning: Plan failed with a cudnnException: CUDNN_BACKEND_EXECUTION_PLAN_DESCRIPTOR: cudnnFinalize Descriptor Failed cudnn_status: CUDNN_STATUS_NOT_SUPPORTED (Triggered internally at ../aten/src/ATen/native/cudnn/Conv_v8.cpp:919.)\n",
            "  return Variable._execution_engine.run_backward(  # Calls into the C++ engine to run the backward pass\n"
          ]
        },
        {
          "output_type": "stream",
          "name": "stdout",
          "text": [
            "epoch:0 batch=0 loss:0.6857127547264099\n",
            "epoch:0 batch=10 loss:0.5559569001197815\n",
            "epoch:0 batch=20 loss:0.5261126160621643\n",
            "epoch:0 batch=30 loss:0.5096046924591064\n",
            "epoch:0 batch=40 loss:0.35141128301620483\n",
            "epoch:0 batch=50 loss:0.284233957529068\n",
            "epoch:0 batch=60 loss:0.23458637297153473\n",
            "epoch:0 batch=70 loss:0.21032823622226715\n",
            "epoch:0 batch=80 loss:0.18221355974674225\n",
            "epoch:0 batch=90 loss:0.16149508953094482\n",
            "epoch:0 batch=100 loss:0.14522506296634674\n",
            "epoch:0 batch=110 loss:0.14205923676490784\n",
            "epoch:0 batch=120 loss:0.13219597935676575\n",
            "epoch:0 batch=130 loss:0.12635722756385803\n",
            "epoch:0 batch=140 loss:0.12199205905199051\n",
            "epoch:0 batch=150 loss:0.12338988482952118\n",
            "epoch:0 batch=160 loss:0.12222610414028168\n",
            "epoch:0 batch=170 loss:0.1205168142914772\n",
            "epoch:0 batch=180 loss:0.12688423693180084\n",
            "epoch:0 batch=190 loss:0.11361302435398102\n",
            "epoch:0 batch=200 loss:0.11416411399841309\n",
            "epoch:0 batch=210 loss:0.11408314853906631\n",
            "epoch:0 batch=220 loss:0.10900922119617462\n",
            "epoch:0 batch=230 loss:0.10573191195726395\n",
            "epoch:0 batch=240 loss:0.10450085252523422\n",
            "epoch:0 batch=250 loss:0.11240465193986893\n",
            "epoch:0 batch=260 loss:0.11129773408174515\n",
            "epoch:0 batch=270 loss:0.10574917495250702\n",
            "epoch:0 batch=280 loss:0.10482608526945114\n",
            "epoch:0 batch=290 loss:0.10416606813669205\n",
            "epoch:0 batch=300 loss:0.10194827616214752\n",
            "epoch:0 batch=310 loss:0.099619060754776\n",
            "epoch:0 batch=320 loss:0.09518252313137054\n",
            "epoch:0 batch=330 loss:0.09802093356847763\n",
            "epoch:0 batch=340 loss:0.09706082940101624\n",
            "epoch:0 batch=350 loss:0.0981593057513237\n",
            "epoch:0 batch=360 loss:0.09940033406019211\n",
            "epoch:0 batch=370 loss:0.09481752663850784\n",
            "epoch:0 batch=380 loss:0.10111075639724731\n",
            "epoch:0 batch=390 loss:0.09477827697992325\n",
            "epoch:0 batch=400 loss:0.1015794649720192\n",
            "epoch:0 batch=410 loss:0.09601618349552155\n",
            "epoch:0 batch=420 loss:0.09475240856409073\n",
            "epoch:0 loss:0.1661227801858814\n"
          ]
        }
      ]
    },
    {
      "cell_type": "code",
      "source": [
        "#test1\n",
        "\n",
        "img=testset[2][0].to(device).unsqueeze(0)\n",
        "out=model(img)\n",
        "plt.imshow(out.detach().cpu().squeeze(0)[0,:,:])\n"
      ],
      "metadata": {
        "colab": {
          "base_uri": "https://localhost:8080/",
          "height": 447
        },
        "id": "sB02MNY9cI16",
        "outputId": "6287eecb-8e0a-41da-80a2-c31feaff5b42"
      },
      "execution_count": null,
      "outputs": [
        {
          "output_type": "execute_result",
          "data": {
            "text/plain": [
              "<matplotlib.image.AxesImage at 0x7e34a1fc0d30>"
            ]
          },
          "metadata": {},
          "execution_count": 24
        },
        {
          "output_type": "display_data",
          "data": {
            "text/plain": [
              "<Figure size 640x480 with 1 Axes>"
            ],
            "image/png": "[encoded data removed]"
          },
          "metadata": {}
        }
      ]
    },
    {
      "cell_type": "code",
      "source": [
        "plt.imshow(img.detach().cpu().squeeze(0)[0,:,:])"
      ],
      "metadata": {
        "colab": {
          "base_uri": "https://localhost:8080/",
          "height": 447
        },
        "id": "L7E8E3Bqe-2K",
        "outputId": "97efb95d-5d0d-4714-9648-031dc4c15eec"
      },
      "execution_count": null,
      "outputs": [
        {
          "output_type": "execute_result",
          "data": {
            "text/plain": [
              "<matplotlib.image.AxesImage at 0x7e34a0acdd50>"
            ]
          },
          "metadata": {},
          "execution_count": 25
        },
        {
          "output_type": "display_data",
          "data": {
            "text/plain": [
              "<Figure size 640x480 with 1 Axes>"
            ],
            "image/png": "[encoded data removed]"
          },
          "metadata": {}
        }
      ]
    },
    {
      "cell_type": "code",
      "source": [
        "def test(model,test_loader,device=\"cpu\"):\n",
        "  model.eval()\n",
        "  model.to(device)\n",
        "  lossfunc=nn.BCELoss()\n",
        "  lossavg=0\n",
        "\n",
        "  for (bid,(inp,lab)) in enumerate(test_loader):\n",
        "      inp=inp.to(device)\n",
        "\n",
        "      #lab=lab.to(device)\n",
        "      out,layers=model.forwardwithlayers(inp)\n",
        "      loss=lossfunc(out,inp)\n",
        "      loss+=l1_reg(layers)\n",
        "      lossavg+=loss.item()\n",
        "\n",
        "      print(f\"batch={bid} loss:{loss.item()}\")\n",
        "\n",
        "  print(f\"loss Average:{lossavg/len(test_loader)}\")"
      ],
      "metadata": {
        "id": "WDODHFlAgcS5"
      },
      "execution_count": null,
      "outputs": []
    },
    {
      "cell_type": "code",
      "source": [
        "test(model,testloader,device=device)"
      ],
      "metadata": {
        "colab": {
          "base_uri": "https://localhost:8080/"
        },
        "id": "6pITcrWbhlYX",
        "outputId": "341d9885-6eff-4cf7-f425-d6e86403066c"
      },
      "execution_count": null,
      "outputs": [
        {
          "output_type": "stream",
          "name": "stdout",
          "text": [
            "batch=0 loss:0.09922058135271072\n",
            "batch=1 loss:0.10387694835662842\n",
            "batch=2 loss:0.10338492691516876\n",
            "batch=3 loss:0.09935486316680908\n",
            "batch=4 loss:0.09740652143955231\n",
            "batch=5 loss:0.09740173816680908\n",
            "batch=6 loss:0.10434915125370026\n",
            "batch=7 loss:0.09805595129728317\n",
            "batch=8 loss:0.10283710062503815\n",
            "batch=9 loss:0.10525161027908325\n",
            "batch=10 loss:0.0976245254278183\n",
            "batch=11 loss:0.10081275552511215\n",
            "batch=12 loss:0.10194876044988632\n",
            "batch=13 loss:0.10157253593206406\n",
            "batch=14 loss:0.1041533499956131\n",
            "batch=15 loss:0.10416299104690552\n",
            "batch=16 loss:0.10158218443393707\n",
            "batch=17 loss:0.09612970799207687\n",
            "batch=18 loss:0.10190706700086594\n",
            "batch=19 loss:0.10438215732574463\n",
            "batch=20 loss:0.09969862550497055\n",
            "batch=21 loss:0.09875905513763428\n",
            "batch=22 loss:0.09759512543678284\n",
            "batch=23 loss:0.09961241483688354\n",
            "batch=24 loss:0.1027197390794754\n",
            "batch=25 loss:0.09425829350948334\n",
            "batch=26 loss:0.10058286041021347\n",
            "batch=27 loss:0.09960906207561493\n",
            "batch=28 loss:0.09633439779281616\n",
            "batch=29 loss:0.09979629516601562\n",
            "batch=30 loss:0.10098164528608322\n",
            "batch=31 loss:0.10239828377962112\n",
            "batch=32 loss:0.10191559791564941\n",
            "batch=33 loss:0.09903018921613693\n",
            "batch=34 loss:0.09753987193107605\n",
            "batch=35 loss:0.10445478558540344\n",
            "batch=36 loss:0.10051582753658295\n",
            "batch=37 loss:0.09924439340829849\n",
            "batch=38 loss:0.09821886569261551\n",
            "batch=39 loss:0.10100345313549042\n",
            "batch=40 loss:0.10036025196313858\n",
            "batch=41 loss:0.09851302206516266\n",
            "batch=42 loss:0.09640952199697495\n",
            "batch=43 loss:0.1028176099061966\n",
            "batch=44 loss:0.0995573103427887\n",
            "batch=45 loss:0.10379639267921448\n",
            "batch=46 loss:0.09987788647413254\n",
            "loss Average:0.10044715331589922\n"
          ]
        }
      ]
    },
    {
      "cell_type": "code",
      "source": [
        "def kl_reg(layers,rho=0.05,beta=0.005):\n",
        "  loss=0\n",
        "  for i in layers:\n",
        "    loss+=F.kl_div(torch.mean(i,dim=0),rho*torch.ones_like(i[0]))\n",
        "  return beta*torch.abs(loss)"
      ],
      "metadata": {
        "id": "aWrg137_iXx0"
      },
      "execution_count": null,
      "outputs": []
    },
    {
      "cell_type": "code",
      "source": [
        "def trainoverKLreg(model,train_loader,epochs=3,lr=9e-3,device=\"cpu\"):\n",
        "  model.train()\n",
        "  model.to(device)\n",
        "  optimizer=optim.Adam(model.parameters(),lr=lr)\n",
        "  lossfunc=nn.BCELoss()\n",
        "  lossavg=0\n",
        "\n",
        "  for epoch in range(epochs):\n",
        "    for (bid,(inp,lab)) in enumerate(train_loader):\n",
        "      inp=inp.to(device)\n",
        "      optimizer.zero_grad()\n",
        "      #lab=lab.to(device)\n",
        "      out,layers=model.forwardwithlayers(inp)\n",
        "      loss=lossfunc(out,inp)\n",
        "      loss+=kl_reg(layers)\n",
        "      loss.backward()\n",
        "      optimizer.step()\n",
        "      lossavg+=loss.item()\n",
        "      if bid%10==0:\n",
        "        print(f\"epoch:{epoch} batch={bid} loss:{loss.item()}\")\n",
        "\n",
        "    print(f\"epoch:{epoch} loss:{lossavg/len(train_loader)}\")\n"
      ],
      "metadata": {
        "id": "-7inxnGgjk_U"
      },
      "execution_count": null,
      "outputs": []
    },
    {
      "cell_type": "code",
      "source": [
        "modelforklreg=SparseAE()\n",
        "device=torch.device(\"cuda\" if torch.cuda.is_available() else 'cpu')\n",
        "trainoverKLreg(modelforklreg,trainloader,epochs=1,device=device)"
      ],
      "metadata": {
        "colab": {
          "base_uri": "https://localhost:8080/"
        },
        "id": "esoFgNaqjwsb",
        "outputId": "0e3380e5-fad7-4cfc-9280-c206aa419832"
      },
      "execution_count": null,
      "outputs": [
        {
          "output_type": "stream",
          "name": "stderr",
          "text": [
            "/usr/local/lib/python3.10/dist-packages/torch/nn/functional.py:2976: UserWarning: reduction: 'mean' divides the total loss by both the batch size and the support size.'batchmean' divides only by the batch size, and aligns with the KL div math definition.'mean' will be changed to behave the same as 'batchmean' in the next major release.\n",
            "  warnings.warn(\n"
          ]
        },
        {
          "output_type": "stream",
          "name": "stdout",
          "text": [
            "epoch:0 batch=0 loss:0.6771348714828491\n",
            "epoch:0 batch=10 loss:0.5182934999465942\n",
            "epoch:0 batch=20 loss:0.2997727692127228\n",
            "epoch:0 batch=30 loss:0.2688724994659424\n",
            "epoch:0 batch=40 loss:0.25636494159698486\n",
            "epoch:0 batch=50 loss:0.2203778475522995\n",
            "epoch:0 batch=60 loss:0.21473319828510284\n",
            "epoch:0 batch=70 loss:0.19621767103672028\n",
            "epoch:0 batch=80 loss:0.1920105665922165\n",
            "epoch:0 batch=90 loss:0.16789521276950836\n",
            "epoch:0 batch=100 loss:0.1584567278623581\n",
            "epoch:0 batch=110 loss:0.149592325091362\n",
            "epoch:0 batch=120 loss:0.14115245640277863\n",
            "epoch:0 batch=130 loss:0.13665391504764557\n",
            "epoch:0 batch=140 loss:0.1229889914393425\n",
            "epoch:0 batch=150 loss:0.11898007988929749\n",
            "epoch:0 batch=160 loss:0.1116340383887291\n",
            "epoch:0 batch=170 loss:0.11191126704216003\n",
            "epoch:0 batch=180 loss:0.11002583801746368\n",
            "epoch:0 batch=190 loss:0.11361617594957352\n",
            "epoch:0 batch=200 loss:0.10946241021156311\n",
            "epoch:0 batch=210 loss:0.10784905403852463\n",
            "epoch:0 batch=220 loss:0.10725333541631699\n",
            "epoch:0 batch=230 loss:0.106094129383564\n",
            "epoch:0 batch=240 loss:0.10335686802864075\n",
            "epoch:0 batch=250 loss:0.09709382057189941\n",
            "epoch:0 batch=260 loss:0.10115563869476318\n",
            "epoch:0 batch=270 loss:0.10255860537290573\n",
            "epoch:0 batch=280 loss:0.10304125398397446\n",
            "epoch:0 batch=290 loss:0.09386425465345383\n",
            "epoch:0 batch=300 loss:0.09846004843711853\n",
            "epoch:0 batch=310 loss:0.09652021527290344\n",
            "epoch:0 batch=320 loss:0.09942357987165451\n",
            "epoch:0 batch=330 loss:0.09739062935113907\n",
            "epoch:0 batch=340 loss:0.09723217785358429\n",
            "epoch:0 batch=350 loss:0.09652924537658691\n",
            "epoch:0 batch=360 loss:0.09337189048528671\n",
            "epoch:0 batch=370 loss:0.09539983421564102\n",
            "epoch:0 batch=380 loss:0.0956980511546135\n",
            "epoch:0 batch=390 loss:0.09579446166753769\n",
            "epoch:0 batch=400 loss:0.09258963167667389\n",
            "epoch:0 batch=410 loss:0.09363485127687454\n",
            "epoch:0 batch=420 loss:0.09566667675971985\n",
            "epoch:0 loss:0.14715816721461394\n"
          ]
        }
      ]
    },
    {
      "cell_type": "code",
      "source": [
        "#test1\n",
        "\n",
        "img=testset[2][0].to(device).unsqueeze(0)\n",
        "out=modelforklreg(img)\n",
        "plt.imshow(out.detach().cpu().squeeze(0)[0,:,:])\n"
      ],
      "metadata": {
        "colab": {
          "base_uri": "https://localhost:8080/",
          "height": 447
        },
        "outputId": "e152e374-9beb-4619-dd5b-5e09f38f1555",
        "id": "Ze44uNsNkiwu"
      },
      "execution_count": null,
      "outputs": [
        {
          "output_type": "execute_result",
          "data": {
            "text/plain": [
              "<matplotlib.image.AxesImage at 0x7e342ef802b0>"
            ]
          },
          "metadata": {},
          "execution_count": 44
        },
        {
          "output_type": "display_data",
          "data": {
            "text/plain": [
              "<Figure size 640x480 with 1 Axes>"
            ],
            "image/png": "[encoded data removed]"
          },
          "metadata": {}
        }
      ]
    },
    {
      "cell_type": "code",
      "source": [
        "plt.imshow(img.detach().cpu().squeeze(0)[0,:,:])"
      ],
      "metadata": {
        "colab": {
          "base_uri": "https://localhost:8080/",
          "height": 447
        },
        "id": "MYlxJEBxkmje",
        "outputId": "d01a8c38-ef15-4ed6-f683-80c703c56dcc"
      },
      "execution_count": null,
      "outputs": [
        {
          "output_type": "execute_result",
          "data": {
            "text/plain": [
              "<matplotlib.image.AxesImage at 0x7e342f06abc0>"
            ]
          },
          "metadata": {},
          "execution_count": 41
        },
        {
          "output_type": "display_data",
          "data": {
            "text/plain": [
              "<Figure size 640x480 with 1 Axes>"
            ],
            "image/png": "[encoded data removed]"
          },
          "metadata": {}
        }
      ]
    },
    {
      "cell_type": "code",
      "source": [
        "def testoverkl(model,test_loader,device=\"cpu\"):\n",
        "  model.eval()\n",
        "  model.to(device)\n",
        "  lossfunc=nn.BCELoss()\n",
        "  lossavg=0\n",
        "\n",
        "  for (bid,(inp,lab)) in enumerate(test_loader):\n",
        "      inp=inp.to(device)\n",
        "\n",
        "      #lab=lab.to(device)\n",
        "      out,layers=model.forwardwithlayers(inp)\n",
        "      loss=lossfunc(out,inp)\n",
        "      loss+=kl_reg(layers)\n",
        "      lossavg+=loss.item()\n",
        "\n",
        "      print(f\"batch={bid} loss:{loss.item()}\")\n",
        "\n",
        "  print(f\"loss Average:{lossavg/len(test_loader)}\")"
      ],
      "metadata": {
        "id": "RDg5Yz0ilJNs"
      },
      "execution_count": null,
      "outputs": []
    },
    {
      "cell_type": "code",
      "source": [
        "test(modelforklreg,testloader,device=device)"
      ],
      "metadata": {
        "colab": {
          "base_uri": "https://localhost:8080/"
        },
        "id": "a2EIqNPklT93",
        "outputId": "65266d67-0343-4231-eb01-10231c194503"
      },
      "execution_count": null,
      "outputs": [
        {
          "output_type": "stream",
          "name": "stdout",
          "text": [
            "batch=0 loss:0.08902769535779953\n",
            "batch=1 loss:0.09145691990852356\n",
            "batch=2 loss:0.09188204258680344\n",
            "batch=3 loss:0.08804026991128922\n",
            "batch=4 loss:0.08771392703056335\n",
            "batch=5 loss:0.085618756711483\n",
            "batch=6 loss:0.09322867542505264\n",
            "batch=7 loss:0.0863443985581398\n",
            "batch=8 loss:0.09029310196638107\n",
            "batch=9 loss:0.09242968261241913\n",
            "batch=10 loss:0.08586923032999039\n",
            "batch=11 loss:0.08924682438373566\n",
            "batch=12 loss:0.09102417528629303\n",
            "batch=13 loss:0.09061747044324875\n",
            "batch=14 loss:0.0924718827009201\n",
            "batch=15 loss:0.09215375781059265\n",
            "batch=16 loss:0.08956912159919739\n",
            "batch=17 loss:0.08526673167943954\n",
            "batch=18 loss:0.0897204577922821\n",
            "batch=19 loss:0.09442595392465591\n",
            "batch=20 loss:0.08913454413414001\n",
            "batch=21 loss:0.08896061033010483\n",
            "batch=22 loss:0.08629719167947769\n",
            "batch=23 loss:0.08812785893678665\n",
            "batch=24 loss:0.09004229307174683\n",
            "batch=25 loss:0.08397933840751648\n",
            "batch=26 loss:0.08770640939474106\n",
            "batch=27 loss:0.08894707262516022\n",
            "batch=28 loss:0.08642619848251343\n",
            "batch=29 loss:0.08941255509853363\n",
            "batch=30 loss:0.09012577682733536\n",
            "batch=31 loss:0.09063810855150223\n",
            "batch=32 loss:0.09067371487617493\n",
            "batch=33 loss:0.08806810528039932\n",
            "batch=34 loss:0.08688004314899445\n",
            "batch=35 loss:0.09240852296352386\n",
            "batch=36 loss:0.08900750428438187\n",
            "batch=37 loss:0.08785152435302734\n",
            "batch=38 loss:0.08732639253139496\n",
            "batch=39 loss:0.08940163254737854\n",
            "batch=40 loss:0.08906296640634537\n",
            "batch=41 loss:0.08823932707309723\n",
            "batch=42 loss:0.08575420081615448\n",
            "batch=43 loss:0.09056542813777924\n",
            "batch=44 loss:0.08695032447576523\n",
            "batch=45 loss:0.09110597521066666\n",
            "batch=46 loss:0.08624649792909622\n",
            "loss Average:0.08905832326792656\n"
          ]
        }
      ]
    }
  ]
}