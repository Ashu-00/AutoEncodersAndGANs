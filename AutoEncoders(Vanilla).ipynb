{
  "nbformat": 4,
  "nbformat_minor": 0,
  "metadata": {
    "colab": {
      "provenance": [],
      "gpuType": "T4",
      "authorship_tag": "ABX9TyPlvY/ga+ZJYYv1ZBtZgsAc",
      "include_colab_link": true
    },
    "kernelspec": {
      "name": "python3",
      "display_name": "Python 3"
    },
    "language_info": {
      "name": "python"
    },
    "accelerator": "GPU"
  },
  "cells": [
    {
      "cell_type": "markdown",
      "metadata": {
        "id": "view-in-github",
        "colab_type": "text"
      },
      "source": [
        "<a href=\"https://colab.research.google.com/github/Ashu-00/AutoEncodersAndGenerators/blob/main/AutoEncoders(Vanilla).ipynb\" target=\"_parent\"><img src=\"https://colab.research.google.com/assets/colab-badge.svg\" alt=\"Open In Colab\"/></a>"
      ]
    },
    {
      "cell_type": "code",
      "execution_count": null,
      "metadata": {
        "id": "1-jIrHUwxq3Z"
      },
      "outputs": [],
      "source": [
        "import torch\n",
        "import torch.nn as nn\n",
        "import torch.nn.functional as F\n",
        "import torch.optim as optim\n",
        "import torchvision"
      ]
    },
    {
      "cell_type": "code",
      "source": [
        "dataset=torchvision.datasets.MNIST('data',train=True,download=True,transform=torchvision.transforms.ToTensor())"
      ],
      "metadata": {
        "colab": {
          "base_uri": "https://localhost:8080/"
        },
        "id": "TKaD4RHrxzzO",
        "outputId": "a72b8964-a3ba-4b4c-d98b-f471cf3d9e4f"
      },
      "execution_count": null,
      "outputs": [
        {
          "output_type": "stream",
          "name": "stdout",
          "text": [
            "Downloading http://yann.lecun.com/exdb/mnist/train-images-idx3-ubyte.gz\n",
            "Failed to download (trying next):\n",
            "HTTP Error 403: Forbidden\n",
            "\n",
            "Downloading https://ossci-datasets.s3.amazonaws.com/mnist/train-images-idx3-ubyte.gz\n",
            "Downloading https://ossci-datasets.s3.amazonaws.com/mnist/train-images-idx3-ubyte.gz to data/MNIST/raw/train-images-idx3-ubyte.gz\n"
          ]
        },
        {
          "output_type": "stream",
          "name": "stderr",
          "text": [
            "100%|██████████| 9912422/9912422 [00:00<00:00, 15922942.79it/s]\n"
          ]
        },
        {
          "output_type": "stream",
          "name": "stdout",
          "text": [
            "Extracting data/MNIST/raw/train-images-idx3-ubyte.gz to data/MNIST/raw\n",
            "\n",
            "Downloading http://yann.lecun.com/exdb/mnist/train-labels-idx1-ubyte.gz\n",
            "Failed to download (trying next):\n",
            "HTTP Error 403: Forbidden\n",
            "\n",
            "Downloading https://ossci-datasets.s3.amazonaws.com/mnist/train-labels-idx1-ubyte.gz\n",
            "Downloading https://ossci-datasets.s3.amazonaws.com/mnist/train-labels-idx1-ubyte.gz to data/MNIST/raw/train-labels-idx1-ubyte.gz\n"
          ]
        },
        {
          "output_type": "stream",
          "name": "stderr",
          "text": [
            "100%|██████████| 28881/28881 [00:00<00:00, 480880.39it/s]\n"
          ]
        },
        {
          "output_type": "stream",
          "name": "stdout",
          "text": [
            "Extracting data/MNIST/raw/train-labels-idx1-ubyte.gz to data/MNIST/raw\n",
            "\n",
            "Downloading http://yann.lecun.com/exdb/mnist/t10k-images-idx3-ubyte.gz\n",
            "Failed to download (trying next):\n",
            "HTTP Error 403: Forbidden\n",
            "\n",
            "Downloading https://ossci-datasets.s3.amazonaws.com/mnist/t10k-images-idx3-ubyte.gz\n",
            "Downloading https://ossci-datasets.s3.amazonaws.com/mnist/t10k-images-idx3-ubyte.gz to data/MNIST/raw/t10k-images-idx3-ubyte.gz\n"
          ]
        },
        {
          "output_type": "stream",
          "name": "stderr",
          "text": [
            "100%|██████████| 1648877/1648877 [00:00<00:00, 4410917.89it/s]\n"
          ]
        },
        {
          "output_type": "stream",
          "name": "stdout",
          "text": [
            "Extracting data/MNIST/raw/t10k-images-idx3-ubyte.gz to data/MNIST/raw\n",
            "\n",
            "Downloading http://yann.lecun.com/exdb/mnist/t10k-labels-idx1-ubyte.gz\n",
            "Failed to download (trying next):\n",
            "HTTP Error 403: Forbidden\n",
            "\n",
            "Downloading https://ossci-datasets.s3.amazonaws.com/mnist/t10k-labels-idx1-ubyte.gz\n",
            "Downloading https://ossci-datasets.s3.amazonaws.com/mnist/t10k-labels-idx1-ubyte.gz to data/MNIST/raw/t10k-labels-idx1-ubyte.gz\n"
          ]
        },
        {
          "output_type": "stream",
          "name": "stderr",
          "text": [
            "100%|██████████| 4542/4542 [00:00<00:00, 10053049.48it/s]"
          ]
        },
        {
          "output_type": "stream",
          "name": "stdout",
          "text": [
            "Extracting data/MNIST/raw/t10k-labels-idx1-ubyte.gz to data/MNIST/raw\n",
            "\n"
          ]
        },
        {
          "output_type": "stream",
          "name": "stderr",
          "text": [
            "\n"
          ]
        }
      ]
    },
    {
      "cell_type": "code",
      "source": [
        "dataset"
      ],
      "metadata": {
        "colab": {
          "base_uri": "https://localhost:8080/"
        },
        "id": "1L2YHhoLybbi",
        "outputId": "92e52618-dd8b-4a78-aeab-fb94885e5c08"
      },
      "execution_count": null,
      "outputs": [
        {
          "output_type": "execute_result",
          "data": {
            "text/plain": [
              "Dataset MNIST\n",
              "    Number of datapoints: 60000\n",
              "    Root location: data\n",
              "    Split: Train\n",
              "    StandardTransform\n",
              "Transform: ToTensor()"
            ]
          },
          "metadata": {},
          "execution_count": 4
        }
      ]
    },
    {
      "cell_type": "code",
      "source": [
        "generator1 = torch.Generator().manual_seed(42)\n",
        "trainset,testset=torch.utils.data.random_split(dataset,[0.9,0.1],generator=generator1)"
      ],
      "metadata": {
        "id": "5I9NasoFyfIB"
      },
      "execution_count": null,
      "outputs": []
    },
    {
      "cell_type": "code",
      "source": [
        "import matplotlib.pyplot as plt\n",
        "plt.imshow(trainset[0][0].squeeze(0))"
      ],
      "metadata": {
        "colab": {
          "base_uri": "https://localhost:8080/",
          "height": 447
        },
        "id": "_eCtFpsKzq4b",
        "outputId": "e4e87de7-64b7-4260-915d-63a0e7993a31"
      },
      "execution_count": null,
      "outputs": [
        {
          "output_type": "execute_result",
          "data": {
            "text/plain": [
              "<matplotlib.image.AxesImage at 0x7fa1f28f14b0>"
            ]
          },
          "metadata": {},
          "execution_count": 20
        },
        {
          "output_type": "display_data",
          "data": {
            "text/plain": [
              "<Figure size 640x480 with 1 Axes>"
            ],
            "image/png": "[encoded data removed]"
          },
          "metadata": {}
        }
      ]
    },
    {
      "cell_type": "code",
      "source": [
        "class VannilaAE(nn.Module):\n",
        "  def __init__(self):\n",
        "    super().__init__()\n",
        "    self.encoder=nn.Sequential(\n",
        "        nn.Conv2d(1,8,3,stride=1),\n",
        "        nn.ReLU(),\n",
        "        nn.Conv2d(8,16,5,stride=1),\n",
        "        nn.ReLU(),\n",
        "        nn.Conv2d(16,32,5,stride=2),\n",
        "        nn.ReLU(),\n",
        "        nn.MaxPool2d(2, 2),\n",
        "    )\n",
        "    self.decoder=nn.Sequential(\n",
        "        nn.ConvTranspose2d(32,16,3, stride=2),\n",
        "            nn.ReLU(),\n",
        "            nn.ConvTranspose2d(16,8,5, stride=2),\n",
        "            nn.ReLU(),\n",
        "            nn.ConvTranspose2d(8,1,8, stride=1),\n",
        "            nn.Sigmoid(),\n",
        "    )\n",
        "  def forward(self,x):\n",
        "    x=self.encoder(x)\n",
        "    x=self.decoder(x)\n",
        "    return x\n",
        "\n"
      ],
      "metadata": {
        "id": "1qUhzZ-b0x_j"
      },
      "execution_count": null,
      "outputs": []
    },
    {
      "cell_type": "code",
      "source": [
        "def train(model,train_loader,epochs=3,lr=9e-3,device=\"cpu\"):\n",
        "  model.train()\n",
        "  model.to(device)\n",
        "  optimizer=optim.Adam(model.parameters(),lr=lr)\n",
        "  lossfunc=nn.BCELoss()\n",
        "  lossavg=0\n",
        "\n",
        "  for epoch in range(epochs):\n",
        "    for (bid,(inp,lab)) in enumerate(train_loader):\n",
        "      inp=inp.to(device)\n",
        "      optimizer.zero_grad()\n",
        "      #lab=lab.to(device)\n",
        "      out=model(inp)\n",
        "      loss=lossfunc(out,inp)\n",
        "      loss.backward()\n",
        "      optimizer.step()\n",
        "      lossavg+=loss.item()\n",
        "      if bid%10==0:\n",
        "        print(f\"epoch:{epoch} batch={bid} loss:{loss.item()}\")\n",
        "\n",
        "    print(f\"epoch:{epoch} loss:{lossavg/len(train_loader)}\")\n"
      ],
      "metadata": {
        "id": "8KLeE5BtXlKB"
      },
      "execution_count": null,
      "outputs": []
    },
    {
      "cell_type": "code",
      "source": [
        "trainloader=torch.utils.data.DataLoader(trainset,batch_size=128,shuffle=True)"
      ],
      "metadata": {
        "id": "seS4GJjeaRKn"
      },
      "execution_count": null,
      "outputs": []
    },
    {
      "cell_type": "code",
      "source": [
        "model=VannilaAE()\n",
        "device=torch.device(\"cuda\" if torch.cuda.is_available() else 'cpu')\n",
        "train(model,trainloader,epochs=1,device=device)"
      ],
      "metadata": {
        "colab": {
          "base_uri": "https://localhost:8080/"
        },
        "id": "EygzJcigaWCj",
        "outputId": "58a08651-5136-44e3-feeb-367bcddc23f6"
      },
      "execution_count": null,
      "outputs": [
        {
          "output_type": "stream",
          "name": "stderr",
          "text": [
            "/usr/local/lib/python3.10/dist-packages/torch/autograd/graph.py:744: UserWarning: Plan failed with a cudnnException: CUDNN_BACKEND_EXECUTION_PLAN_DESCRIPTOR: cudnnFinalize Descriptor Failed cudnn_status: CUDNN_STATUS_NOT_SUPPORTED (Triggered internally at ../aten/src/ATen/native/cudnn/Conv_v8.cpp:919.)\n",
            "  return Variable._execution_engine.run_backward(  # Calls into the C++ engine to run the backward pass\n"
          ]
        },
        {
          "output_type": "stream",
          "name": "stdout",
          "text": [
            "epoch:0 batch=0 loss:0.700829803943634\n",
            "epoch:0 batch=10 loss:0.5773718357086182\n",
            "epoch:0 batch=20 loss:0.397442102432251\n",
            "epoch:0 batch=30 loss:0.2504093050956726\n",
            "epoch:0 batch=40 loss:0.20531193912029266\n",
            "epoch:0 batch=50 loss:0.18377366662025452\n",
            "epoch:0 batch=60 loss:0.17096832394599915\n",
            "epoch:0 batch=70 loss:0.1632220298051834\n",
            "epoch:0 batch=80 loss:0.1408255249261856\n",
            "epoch:0 batch=90 loss:0.1333276778459549\n",
            "epoch:0 batch=100 loss:0.12674854695796967\n",
            "epoch:0 batch=110 loss:0.12120281904935837\n",
            "epoch:0 batch=120 loss:0.12151075899600983\n",
            "epoch:0 batch=130 loss:0.11220508813858032\n",
            "epoch:0 batch=140 loss:0.10712257772684097\n",
            "epoch:0 batch=150 loss:0.11123871058225632\n",
            "epoch:0 batch=160 loss:0.1064513698220253\n",
            "epoch:0 batch=170 loss:0.10258538275957108\n",
            "epoch:0 batch=180 loss:0.1020987257361412\n",
            "epoch:0 batch=190 loss:0.09646493196487427\n",
            "epoch:0 batch=200 loss:0.09847699105739594\n",
            "epoch:0 batch=210 loss:0.10138176381587982\n",
            "epoch:0 batch=220 loss:0.09315875172615051\n",
            "epoch:0 batch=230 loss:0.10063604265451431\n",
            "epoch:0 batch=240 loss:0.09959643334150314\n",
            "epoch:0 batch=250 loss:0.09830272942781448\n",
            "epoch:0 batch=260 loss:0.09322355687618256\n",
            "epoch:0 batch=270 loss:0.09486585855484009\n",
            "epoch:0 batch=280 loss:0.09628509730100632\n",
            "epoch:0 batch=290 loss:0.09308208525180817\n",
            "epoch:0 batch=300 loss:0.10084358602762222\n",
            "epoch:0 batch=310 loss:0.08947233855724335\n",
            "epoch:0 batch=320 loss:0.09109843522310257\n",
            "epoch:0 batch=330 loss:0.09060760587453842\n",
            "epoch:0 batch=340 loss:0.09500901401042938\n",
            "epoch:0 batch=350 loss:0.08901360630989075\n",
            "epoch:0 batch=360 loss:0.08695930242538452\n",
            "epoch:0 batch=370 loss:0.09094834327697754\n",
            "epoch:0 batch=380 loss:0.08797226846218109\n",
            "epoch:0 batch=390 loss:0.08206314593553543\n",
            "epoch:0 batch=400 loss:0.08945933729410172\n",
            "epoch:0 batch=410 loss:0.09047120064496994\n",
            "epoch:0 batch=420 loss:0.08628334850072861\n",
            "epoch:0 loss:0.1382090180617938\n"
          ]
        }
      ]
    },
    {
      "cell_type": "code",
      "source": [
        "#test1\n",
        "\n",
        "img=testset[98][0].to(device).unsqueeze(0)\n",
        "out=model(img)\n",
        "plt.imshow(out.detach().cpu().squeeze(0)[0,:,:])\n"
      ],
      "metadata": {
        "colab": {
          "base_uri": "https://localhost:8080/",
          "height": 447
        },
        "id": "sB02MNY9cI16",
        "outputId": "acf6798b-6972-4d54-ad12-67579d71cb79"
      },
      "execution_count": null,
      "outputs": [
        {
          "output_type": "execute_result",
          "data": {
            "text/plain": [
              "<matplotlib.image.AxesImage at 0x7fa1f295ddb0>"
            ]
          },
          "metadata": {},
          "execution_count": 21
        },
        {
          "output_type": "display_data",
          "data": {
            "text/plain": [
              "<Figure size 640x480 with 1 Axes>"
            ],
            "image/png": "[encoded data removed]"
          },
          "metadata": {}
        }
      ]
    },
    {
      "cell_type": "code",
      "source": [
        "plt.imshow(img.detach().cpu().squeeze(0)[0,:,:])"
      ],
      "metadata": {
        "colab": {
          "base_uri": "https://localhost:8080/",
          "height": 447
        },
        "id": "L7E8E3Bqe-2K",
        "outputId": "a8bf7e4f-98f7-468a-b958-436caa095ac1"
      },
      "execution_count": null,
      "outputs": [
        {
          "output_type": "execute_result",
          "data": {
            "text/plain": [
              "<matplotlib.image.AxesImage at 0x7fa1f27d63b0>"
            ]
          },
          "metadata": {},
          "execution_count": 22
        },
        {
          "output_type": "display_data",
          "data": {
            "text/plain": [
              "<Figure size 640x480 with 1 Axes>"
            ],
            "image/png": "[encoded data removed]"
          },
          "metadata": {}
        }
      ]
    }
  ]
}