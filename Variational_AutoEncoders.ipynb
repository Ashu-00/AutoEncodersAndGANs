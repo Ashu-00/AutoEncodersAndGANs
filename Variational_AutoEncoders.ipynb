{
  "nbformat": 4,
  "nbformat_minor": 0,
  "metadata": {
    "colab": {
      "provenance": [],
      "gpuType": "T4",
      "authorship_tag": "ABX9TyMYUuVLdAeVdMixJFJJeXPe",
      "include_colab_link": true
    },
    "kernelspec": {
      "name": "python3",
      "display_name": "Python 3"
    },
    "language_info": {
      "name": "python"
    },
    "accelerator": "GPU"
  },
  "cells": [
    {
      "cell_type": "markdown",
      "metadata": {
        "id": "view-in-github",
        "colab_type": "text"
      },
      "source": [
        "<a href=\"https://colab.research.google.com/github/Ashu-00/AutoEncodersAndGenerators/blob/main/Variational_AutoEncoders.ipynb\" target=\"_parent\"><img src=\"https://colab.research.google.com/assets/colab-badge.svg\" alt=\"Open In Colab\"/></a>"
      ]
    },
    {
      "cell_type": "code",
      "execution_count": null,
      "metadata": {
        "id": "6UJ8gnZSA45N"
      },
      "outputs": [],
      "source": [
        "import torch\n",
        "import torchvision\n",
        "import torchvision.transforms as transforms\n",
        "import torch.nn as nn\n",
        "import torch.nn.functional as F\n",
        "import torch.optim as optim\n",
        "import matplotlib.pyplot as plt\n",
        "import numpy as np\n",
        "from tqdm import tqdm"
      ]
    },
    {
      "cell_type": "code",
      "source": [
        "class VAE(nn.Module):\n",
        "  def __init__(self,insize=28*28, latent_size=200):\n",
        "    super().__init__()\n",
        "\n",
        "    self.h=latent_size\n",
        "    self.ins=insize\n",
        "\n",
        "    self.encoder = nn.Sequential(\n",
        "        nn.Linear(self.ins,512),\n",
        "        nn.LeakyReLU(),\n",
        "        nn.Linear(512,400),\n",
        "        nn.LeakyReLU(),\n",
        "\n",
        "    )\n",
        "\n",
        "    self.mumake=nn.Linear(400, self.h)\n",
        "    self.varmake=nn.Linear(400, self.h)\n",
        "\n",
        "    self.decoder= nn.Sequential(\n",
        "        nn.Linear(self.h,512),\n",
        "        nn.LeakyReLU(),\n",
        "        nn.Linear(512,self.ins),\n",
        "        nn.Sigmoid(),\n",
        "\n",
        "    )\n",
        "\n",
        "  def reparameterize(self, mu, var):\n",
        "\n",
        "    eps = torch.randn_like(var)\n",
        "    return mu + eps * var\n",
        "\n",
        "  def forward(self, x):\n",
        "    x = torch.flatten(x, start_dim=1)\n",
        "\n",
        "    x=self.encoder(x)\n",
        "\n",
        "    mu=self.mumake(x)\n",
        "    lvar=self.varmake(x)\n",
        "\n",
        "    z=self.reparameterize(mu, lvar)\n",
        "\n",
        "\n",
        "    x=self.decoder(z)\n",
        "    return x.view(-1,1,28,28), mu, lvar"
      ],
      "metadata": {
        "id": "p_iJz_lsBWM5"
      },
      "execution_count": null,
      "outputs": []
    },
    {
      "cell_type": "code",
      "source": [
        "x=torch.randn(1,1,28,28)\n",
        "model=VAE()\n",
        "x, mu, lvar=model(x)\n",
        "print(x.shape)\n",
        "print(mu.shape)\n",
        "print(lvar.shape)"
      ],
      "metadata": {
        "colab": {
          "base_uri": "https://localhost:8080/"
        },
        "id": "bGd_GrnyGtZv",
        "outputId": "ce2921f8-737a-44ab-f756-4126374a1ffa"
      },
      "execution_count": null,
      "outputs": [
        {
          "output_type": "stream",
          "name": "stdout",
          "text": [
            "torch.Size([1, 1, 28, 28])\n",
            "torch.Size([1, 200])\n",
            "torch.Size([1, 200])\n"
          ]
        }
      ]
    },
    {
      "cell_type": "code",
      "source": [
        "from torchvision import datasets\n",
        "from torch.utils.data import DataLoader"
      ],
      "metadata": {
        "id": "wi74Ynm7Lpcb"
      },
      "execution_count": null,
      "outputs": []
    },
    {
      "cell_type": "code",
      "source": [
        "dataset=datasets.MNIST(root='./data', train=True, transform=transforms.ToTensor(), download=True)"
      ],
      "metadata": {
        "id": "sKhriayfMLmv"
      },
      "execution_count": null,
      "outputs": []
    },
    {
      "cell_type": "code",
      "source": [
        "generator1 = torch.Generator().manual_seed(42)\n",
        "trainset,testset=torch.utils.data.random_split(dataset,[.9,.1],generator=generator1)"
      ],
      "metadata": {
        "id": "mNzu935OMfm6"
      },
      "execution_count": null,
      "outputs": []
    },
    {
      "cell_type": "code",
      "source": [
        "trainloader=torch.utils.data.DataLoader(trainset,batch_size=32,shuffle=True)\n",
        "testloader=torch.utils.data.DataLoader(testset,batch_size=32,shuffle=False)\n",
        "device=torch.device(\"cuda\" if torch.cuda.is_available() else 'cpu')\n"
      ],
      "metadata": {
        "id": "M3CWzB2PN524"
      },
      "execution_count": null,
      "outputs": []
    },
    {
      "cell_type": "code",
      "source": [
        "def lossfunc(realx, outx, mu,lvar):\n",
        "    reproduction_loss = nn.functional.binary_cross_entropy(outx,realx, reduction='sum')\n",
        "    KLD = - 0.5 * torch.sum(1+ torch.log(lvar.pow(2)) - mu.pow(2) - lvar.pow(2))\n",
        "\n",
        "    return reproduction_loss + KLD"
      ],
      "metadata": {
        "id": "1CjrpaxBODuy"
      },
      "execution_count": null,
      "outputs": []
    },
    {
      "cell_type": "code",
      "source": [
        "def train(model,train_loader,epochs=3,lr=9e-3,device=\"cpu\"):\n",
        "  model.train()\n",
        "  model.to(device)\n",
        "  optimizer=optim.Adam(model.parameters(),lr=lr)\n",
        "\n",
        "  for epoch in range(epochs):\n",
        "    loop=tqdm(enumerate((train_loader)))\n",
        "    lossavg=0\n",
        "    for (bid,(inp,lab)) in loop:\n",
        "      inp=inp.to(device)\n",
        "\n",
        "      #lab=lab.to(device)\n",
        "      out,mu,sigma=model(inp)\n",
        "      loss=lossfunc(inp,out,mu,sigma)\n",
        "\n",
        "      optimizer.zero_grad()\n",
        "      loss.backward()\n",
        "      optimizer.step()\n",
        "      loop.set_postfix(loss=loss.item())\n",
        "\n",
        "      lossavg+=loss.item()\n",
        "\n",
        "    print(f\"epoch:{epoch} loss:{lossavg/(len(train_loader))}\")\n"
      ],
      "metadata": {
        "id": "n1DUf0UOUSm0"
      },
      "execution_count": null,
      "outputs": []
    },
    {
      "cell_type": "code",
      "source": [
        "\n",
        "model=VAE().to(device)"
      ],
      "metadata": {
        "id": "pbjehCVmZRPo"
      },
      "execution_count": null,
      "outputs": []
    },
    {
      "cell_type": "code",
      "source": [
        "model.load_state_dict(torch.load('model.pt'))"
      ],
      "metadata": {
        "colab": {
          "base_uri": "https://localhost:8080/"
        },
        "id": "c_NobJ48jScK",
        "outputId": "9599048e-37c4-4ea9-b5d0-785db781a673"
      },
      "execution_count": null,
      "outputs": [
        {
          "output_type": "execute_result",
          "data": {
            "text/plain": [
              "<All keys matched successfully>"
            ]
          },
          "metadata": {},
          "execution_count": 109
        }
      ]
    },
    {
      "cell_type": "code",
      "source": [
        "#model=VAE().to(device)\n",
        "train(model,trainloader,epochs=10,lr=5e-4,device=device)"
      ],
      "metadata": {
        "colab": {
          "base_uri": "https://localhost:8080/"
        },
        "id": "78NF3YZMVV6N",
        "outputId": "ef6a0f83-9f17-492b-dd57-03e1a94c85ea"
      },
      "execution_count": null,
      "outputs": [
        {
          "output_type": "stream",
          "name": "stderr",
          "text": [
            "1688it [00:17, 96.64it/s, loss=1.52e+3] \n"
          ]
        },
        {
          "output_type": "stream",
          "name": "stdout",
          "text": [
            "epoch:0 loss:3355.6900009950755\n"
          ]
        },
        {
          "output_type": "stream",
          "name": "stderr",
          "text": [
            "1688it [00:18, 92.63it/s, loss=1.49e+3]\n"
          ]
        },
        {
          "output_type": "stream",
          "name": "stdout",
          "text": [
            "epoch:1 loss:3354.8387636302205\n"
          ]
        },
        {
          "output_type": "stream",
          "name": "stderr",
          "text": [
            "1688it [00:17, 96.34it/s, loss=1.76e+3] \n"
          ]
        },
        {
          "output_type": "stream",
          "name": "stdout",
          "text": [
            "epoch:2 loss:3351.750536588696\n"
          ]
        },
        {
          "output_type": "stream",
          "name": "stderr",
          "text": [
            "1688it [00:17, 95.13it/s, loss=1.6e+3]\n"
          ]
        },
        {
          "output_type": "stream",
          "name": "stdout",
          "text": [
            "epoch:3 loss:3349.458480473378\n"
          ]
        },
        {
          "output_type": "stream",
          "name": "stderr",
          "text": [
            "1688it [00:18, 93.68it/s, loss=1.6e+3] \n"
          ]
        },
        {
          "output_type": "stream",
          "name": "stdout",
          "text": [
            "epoch:4 loss:3344.959348994974\n"
          ]
        },
        {
          "output_type": "stream",
          "name": "stderr",
          "text": [
            "1688it [00:17, 95.46it/s, loss=1.7e+3]\n"
          ]
        },
        {
          "output_type": "stream",
          "name": "stdout",
          "text": [
            "epoch:5 loss:3343.4360541031824\n"
          ]
        },
        {
          "output_type": "stream",
          "name": "stderr",
          "text": [
            "1688it [00:18, 92.05it/s, loss=1.49e+3] \n"
          ]
        },
        {
          "output_type": "stream",
          "name": "stdout",
          "text": [
            "epoch:6 loss:3339.2012825192996\n"
          ]
        },
        {
          "output_type": "stream",
          "name": "stderr",
          "text": [
            "1688it [00:17, 95.44it/s, loss=1.77e+3]\n"
          ]
        },
        {
          "output_type": "stream",
          "name": "stdout",
          "text": [
            "epoch:7 loss:3335.197641092454\n"
          ]
        },
        {
          "output_type": "stream",
          "name": "stderr",
          "text": [
            "1688it [00:18, 92.68it/s, loss=1.75e+3]\n"
          ]
        },
        {
          "output_type": "stream",
          "name": "stdout",
          "text": [
            "epoch:8 loss:3332.9043787373184\n"
          ]
        },
        {
          "output_type": "stream",
          "name": "stderr",
          "text": [
            "1688it [00:17, 95.55it/s, loss=1.82e+3]"
          ]
        },
        {
          "output_type": "stream",
          "name": "stdout",
          "text": [
            "epoch:9 loss:3330.577905880896\n"
          ]
        },
        {
          "output_type": "stream",
          "name": "stderr",
          "text": [
            "\n"
          ]
        }
      ]
    },
    {
      "cell_type": "code",
      "source": [
        "torch.save(model.state_dict(),'model.pt')"
      ],
      "metadata": {
        "id": "GJ2rCDDUZWkl"
      },
      "execution_count": null,
      "outputs": []
    },
    {
      "cell_type": "code",
      "source": [
        "model.to(\"cpu\")\n",
        "img=testset[197][0]\n",
        "out,mu,sigma=model(img.unsqueeze(0))\n",
        "plt.subplot(1,2,1)\n",
        "plt.imshow(img.detach().cpu().squeeze(0,1),cmap='gray')\n",
        "plt.subplot(1,2,2)\n",
        "plt.imshow(out.detach().cpu().squeeze(0,1),cmap='gray')\n",
        "plt.show()"
      ],
      "metadata": {
        "colab": {
          "base_uri": "https://localhost:8080/",
          "height": 287
        },
        "id": "3-pmCN6ojiqN",
        "outputId": "1267704d-366a-485d-90cf-2a6e1d186af5"
      },
      "execution_count": null,
      "outputs": [
        {
          "output_type": "display_data",
          "data": {
            "text/plain": [
              "<Figure size 640x480 with 2 Axes>"
            ],
            "image/png": "[encoded data removed]"
          },
          "metadata": {}
        }
      ]
    },
    {
      "cell_type": "code",
      "source": [
        "def inference(dataset):\n",
        "    \"\"\"\n",
        "    Generates (num_examples) of a particular digit.\n",
        "    Specifically we extract an example of each digit,\n",
        "    then after we have the mu, sigma representation for\n",
        "    each digit we can sample from that.\n",
        "\n",
        "    After we sample we can run the decoder part of the VAE\n",
        "    and generate examples.\n",
        "    \"\"\"\n",
        "    images = []\n",
        "    idx = 0\n",
        "    for x, y in dataset:\n",
        "        if y == idx:\n",
        "            images.append(x)\n",
        "            idx += 1\n",
        "        if idx == 10:\n",
        "            break\n",
        "\n",
        "    encodings_digit = []\n",
        "    for d in range(10):\n",
        "        with torch.no_grad():\n",
        "            x = model.encoder(images[d].view(1, 784))\n",
        "            mu=model.mumake(x)\n",
        "            sigma=model.varmake(x)\n",
        "\n",
        "\n",
        "        encodings_digit.append((mu, sigma))\n",
        "\n",
        "\n",
        "    for i,(mu, sigma) in enumerate(encodings_digit):\n",
        "        epsilon = torch.randn_like(5*sigma)\n",
        "        z = mu + sigma * epsilon\n",
        "        out = model.decoder(z)\n",
        "        out = out.view(-1, 1, 28, 28)\n",
        "        plt.subplot(1,10,i+1)\n",
        "        plt.title(f\"{i}\")\n",
        "        plt.imshow(out.detach().cpu().squeeze(0,1),cmap='gray')\n",
        "        plt.axis('off')\n",
        "    plt.show()\n",
        "\n",
        "model.to(\"cpu\")\n",
        "inference(trainset)\n"
      ],
      "metadata": {
        "colab": {
          "base_uri": "https://localhost:8080/",
          "height": 101
        },
        "id": "NuGC_Gu6lApr",
        "outputId": "f6752d11-8e3d-437a-e8d4-05224b50a241"
      },
      "execution_count": null,
      "outputs": [
        {
          "output_type": "display_data",
          "data": {
            "text/plain": [
              "<Figure size 640x480 with 10 Axes>"
            ],
            "image/png": "[encoded data removed]"
          },
          "metadata": {}
        }
      ]
    }
  ]
}