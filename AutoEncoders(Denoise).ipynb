{
  "nbformat": 4,
  "nbformat_minor": 0,
  "metadata": {
    "colab": {
      "provenance": [],
      "authorship_tag": "ABX9TyOHdW2e/boqdYXC9B616uCO",
      "include_colab_link": true
    },
    "kernelspec": {
      "name": "python3",
      "display_name": "Python 3"
    },
    "language_info": {
      "name": "python"
    }
  },
  "cells": [
    {
      "cell_type": "markdown",
      "metadata": {
        "id": "view-in-github",
        "colab_type": "text"
      },
      "source": [
        "<a href=\"https://colab.research.google.com/github/Ashu-00/AutoEncodersAndGenerators/blob/main/AutoEncoders(Denoise).ipynb\" target=\"_parent\"><img src=\"https://colab.research.google.com/assets/colab-badge.svg\" alt=\"Open In Colab\"/></a>"
      ]
    },
    {
      "cell_type": "code",
      "execution_count": null,
      "metadata": {
        "id": "1-jIrHUwxq3Z"
      },
      "outputs": [],
      "source": [
        "import torch\n",
        "import torch.nn as nn\n",
        "import torch.nn.functional as F\n",
        "import torch.optim as optim\n",
        "import torchvision"
      ]
    },
    {
      "cell_type": "code",
      "source": [
        "dataset=torchvision.datasets.MNIST('data',train=True,download=True,transform=torchvision.transforms.ToTensor())"
      ],
      "metadata": {
        "colab": {
          "base_uri": "https://localhost:8080/"
        },
        "id": "TKaD4RHrxzzO",
        "outputId": "1fbcad7f-566a-45a0-9e01-6dabd0775e2d"
      },
      "execution_count": null,
      "outputs": [
        {
          "output_type": "stream",
          "name": "stdout",
          "text": [
            "Downloading http://yann.lecun.com/exdb/mnist/train-images-idx3-ubyte.gz\n",
            "Failed to download (trying next):\n",
            "HTTP Error 403: Forbidden\n",
            "\n",
            "Downloading https://ossci-datasets.s3.amazonaws.com/mnist/train-images-idx3-ubyte.gz\n",
            "Downloading https://ossci-datasets.s3.amazonaws.com/mnist/train-images-idx3-ubyte.gz to data/MNIST/raw/train-images-idx3-ubyte.gz\n"
          ]
        },
        {
          "output_type": "stream",
          "name": "stderr",
          "text": [
            "100%|██████████| 9912422/9912422 [00:00<00:00, 16302857.90it/s]\n"
          ]
        },
        {
          "output_type": "stream",
          "name": "stdout",
          "text": [
            "Extracting data/MNIST/raw/train-images-idx3-ubyte.gz to data/MNIST/raw\n",
            "\n",
            "Downloading http://yann.lecun.com/exdb/mnist/train-labels-idx1-ubyte.gz\n",
            "Failed to download (trying next):\n",
            "HTTP Error 403: Forbidden\n",
            "\n",
            "Downloading https://ossci-datasets.s3.amazonaws.com/mnist/train-labels-idx1-ubyte.gz\n",
            "Downloading https://ossci-datasets.s3.amazonaws.com/mnist/train-labels-idx1-ubyte.gz to data/MNIST/raw/train-labels-idx1-ubyte.gz\n"
          ]
        },
        {
          "output_type": "stream",
          "name": "stderr",
          "text": [
            "100%|██████████| 28881/28881 [00:00<00:00, 476467.60it/s]\n"
          ]
        },
        {
          "output_type": "stream",
          "name": "stdout",
          "text": [
            "Extracting data/MNIST/raw/train-labels-idx1-ubyte.gz to data/MNIST/raw\n",
            "\n",
            "Downloading http://yann.lecun.com/exdb/mnist/t10k-images-idx3-ubyte.gz\n",
            "Failed to download (trying next):\n",
            "HTTP Error 403: Forbidden\n",
            "\n",
            "Downloading https://ossci-datasets.s3.amazonaws.com/mnist/t10k-images-idx3-ubyte.gz\n",
            "Downloading https://ossci-datasets.s3.amazonaws.com/mnist/t10k-images-idx3-ubyte.gz to data/MNIST/raw/t10k-images-idx3-ubyte.gz\n"
          ]
        },
        {
          "output_type": "stream",
          "name": "stderr",
          "text": [
            "100%|██████████| 1648877/1648877 [00:00<00:00, 4364362.74it/s]\n"
          ]
        },
        {
          "output_type": "stream",
          "name": "stdout",
          "text": [
            "Extracting data/MNIST/raw/t10k-images-idx3-ubyte.gz to data/MNIST/raw\n",
            "\n",
            "Downloading http://yann.lecun.com/exdb/mnist/t10k-labels-idx1-ubyte.gz\n",
            "Failed to download (trying next):\n",
            "HTTP Error 403: Forbidden\n",
            "\n",
            "Downloading https://ossci-datasets.s3.amazonaws.com/mnist/t10k-labels-idx1-ubyte.gz\n",
            "Downloading https://ossci-datasets.s3.amazonaws.com/mnist/t10k-labels-idx1-ubyte.gz to data/MNIST/raw/t10k-labels-idx1-ubyte.gz\n"
          ]
        },
        {
          "output_type": "stream",
          "name": "stderr",
          "text": [
            "100%|██████████| 4542/4542 [00:00<00:00, 3050036.63it/s]"
          ]
        },
        {
          "output_type": "stream",
          "name": "stdout",
          "text": [
            "Extracting data/MNIST/raw/t10k-labels-idx1-ubyte.gz to data/MNIST/raw\n",
            "\n"
          ]
        },
        {
          "output_type": "stream",
          "name": "stderr",
          "text": [
            "\n"
          ]
        }
      ]
    },
    {
      "cell_type": "code",
      "source": [
        "dataset"
      ],
      "metadata": {
        "colab": {
          "base_uri": "https://localhost:8080/"
        },
        "id": "1L2YHhoLybbi",
        "outputId": "5df3c97b-c351-4344-ee8c-6f1a6ad680a8"
      },
      "execution_count": null,
      "outputs": [
        {
          "output_type": "execute_result",
          "data": {
            "text/plain": [
              "Dataset MNIST\n",
              "    Number of datapoints: 60000\n",
              "    Root location: data\n",
              "    Split: Train\n",
              "    StandardTransform\n",
              "Transform: ToTensor()"
            ]
          },
          "metadata": {},
          "execution_count": 3
        }
      ]
    },
    {
      "cell_type": "code",
      "source": [
        "generator1 = torch.Generator().manual_seed(42)\n",
        "trainset,testset=torch.utils.data.random_split(dataset,[0.9,0.1],generator=generator1)"
      ],
      "metadata": {
        "id": "5I9NasoFyfIB"
      },
      "execution_count": null,
      "outputs": []
    },
    {
      "cell_type": "code",
      "source": [
        "import matplotlib.pyplot as plt\n",
        "plt.imshow(trainset[0][0].squeeze(0))"
      ],
      "metadata": {
        "colab": {
          "base_uri": "https://localhost:8080/",
          "height": 447
        },
        "id": "_eCtFpsKzq4b",
        "outputId": "75ee86fa-eb6f-47e3-a871-046d10d05187"
      },
      "execution_count": null,
      "outputs": [
        {
          "output_type": "execute_result",
          "data": {
            "text/plain": [
              "<matplotlib.image.AxesImage at 0x7b9d7064ca00>"
            ]
          },
          "metadata": {},
          "execution_count": 5
        },
        {
          "output_type": "display_data",
          "data": {
            "text/plain": [
              "<Figure size 640x480 with 1 Axes>"
            ],
            "image/png": "[encoded data removed]"
          },
          "metadata": {}
        }
      ]
    },
    {
      "cell_type": "code",
      "source": [
        "class VannilaAE(nn.Module):\n",
        "  def __init__(self):\n",
        "    super().__init__()\n",
        "    self.encoder=nn.Sequential(\n",
        "        nn.Conv2d(1,8,3,stride=1),\n",
        "        nn.ReLU(),\n",
        "        nn.Conv2d(8,16,5,stride=1),\n",
        "        nn.ReLU(),\n",
        "        nn.Conv2d(16,32,5,stride=2),\n",
        "        nn.ReLU(),\n",
        "        nn.MaxPool2d(2, 2),\n",
        "    )\n",
        "    self.decoder=nn.Sequential(\n",
        "        nn.ConvTranspose2d(32,16,3, stride=2),\n",
        "            nn.ReLU(),\n",
        "            nn.ConvTranspose2d(16,8,5, stride=2),\n",
        "            nn.ReLU(),\n",
        "            nn.ConvTranspose2d(8,1,8, stride=1),\n",
        "            nn.Sigmoid(),\n",
        "    )\n",
        "  def forward(self,x):\n",
        "    x=self.encoder(x)\n",
        "    x=self.decoder(x)\n",
        "    return x\n",
        "\n"
      ],
      "metadata": {
        "id": "1qUhzZ-b0x_j"
      },
      "execution_count": null,
      "outputs": []
    },
    {
      "cell_type": "code",
      "source": [
        "def noiseAdder(image,nfactor=0.25):\n",
        "  noise=torch.randn_like(image) * nfactor\n",
        "  return image+noise"
      ],
      "metadata": {
        "id": "MJ2BqqAlqo38"
      },
      "execution_count": null,
      "outputs": []
    },
    {
      "cell_type": "code",
      "source": [
        "def trainwithnoise(model,train_loader,epochs=3,lr=9e-3,device=\"cpu\"):\n",
        "  model.train()\n",
        "  model.to(device)\n",
        "  optimizer=optim.Adam(model.parameters(),lr=lr)\n",
        "  lossfunc=nn.BCELoss()\n",
        "  lossavg=0\n",
        "\n",
        "  for epoch in range(epochs):\n",
        "    for (bid,(inp,lab)) in enumerate(train_loader):\n",
        "      inpnoise=noiseAdder(inp).to(device)\n",
        "      optimizer.zero_grad()\n",
        "      #lab=lab.to(device)\n",
        "      out=model(inpnoise)\n",
        "      loss=lossfunc(out,inp)\n",
        "      loss.backward()\n",
        "      optimizer.step()\n",
        "      lossavg+=loss.item()\n",
        "      if bid%50==0:\n",
        "        print(f\"epoch:{epoch} batch={bid} loss:{loss.item()}\")\n",
        "\n",
        "    print(f\"epoch:{epoch} loss:{lossavg/((epoch+1) * len(train_loader))}\")\n"
      ],
      "metadata": {
        "id": "8KLeE5BtXlKB"
      },
      "execution_count": null,
      "outputs": []
    },
    {
      "cell_type": "code",
      "source": [
        "trainloader=torch.utils.data.DataLoader(trainset,batch_size=128,shuffle=True)"
      ],
      "metadata": {
        "id": "seS4GJjeaRKn"
      },
      "execution_count": null,
      "outputs": []
    },
    {
      "cell_type": "code",
      "source": [
        "modelfordenoising=VannilaAE()\n",
        "device=torch.device(\"cuda\" if torch.cuda.is_available() else 'cpu')\n",
        "trainwithnoise(modelfordenoising,trainloader,epochs=5,device=device)"
      ],
      "metadata": {
        "colab": {
          "base_uri": "https://localhost:8080/"
        },
        "id": "EygzJcigaWCj",
        "outputId": "0b2e3762-2d96-4e57-ffc1-0fc45229e214"
      },
      "execution_count": null,
      "outputs": [
        {
          "output_type": "stream",
          "name": "stdout",
          "text": [
            "epoch:0 batch=0 loss:0.7358649969100952\n",
            "epoch:0 batch=50 loss:0.2417089343070984\n",
            "epoch:0 batch=100 loss:0.16930314898490906\n",
            "epoch:0 batch=150 loss:0.1466463804244995\n",
            "epoch:0 batch=200 loss:0.12323737889528275\n",
            "epoch:0 batch=250 loss:0.11462739109992981\n",
            "epoch:0 batch=300 loss:0.10843781381845474\n",
            "epoch:0 batch=350 loss:0.10646756738424301\n",
            "epoch:0 batch=400 loss:0.10393084585666656\n",
            "epoch:0 loss:0.15946507144948882\n",
            "epoch:1 batch=0 loss:0.10228163003921509\n",
            "epoch:1 batch=50 loss:0.09843339771032333\n",
            "epoch:1 batch=100 loss:0.09977041184902191\n",
            "epoch:1 batch=150 loss:0.0959823727607727\n",
            "epoch:1 batch=200 loss:0.09341320395469666\n",
            "epoch:1 batch=250 loss:0.0957210585474968\n",
            "epoch:1 batch=300 loss:0.09062308073043823\n",
            "epoch:1 batch=350 loss:0.09475571662187576\n",
            "epoch:1 batch=400 loss:0.08954232186079025\n",
            "epoch:1 loss:0.12759335640094008\n",
            "epoch:2 batch=0 loss:0.09275294095277786\n",
            "epoch:2 batch=50 loss:0.0894218161702156\n",
            "epoch:2 batch=100 loss:0.08842363208532333\n",
            "epoch:2 batch=150 loss:0.08932246267795563\n",
            "epoch:2 batch=200 loss:0.09210619330406189\n",
            "epoch:2 batch=250 loss:0.0908728837966919\n",
            "epoch:2 batch=300 loss:0.08744039386510849\n",
            "epoch:2 batch=350 loss:0.08650600910186768\n",
            "epoch:2 batch=400 loss:0.08560138195753098\n",
            "epoch:2 loss:0.11520450180293448\n",
            "epoch:3 batch=0 loss:0.08609234541654587\n",
            "epoch:3 batch=50 loss:0.08536326885223389\n",
            "epoch:3 batch=100 loss:0.0896495133638382\n",
            "epoch:3 batch=150 loss:0.08943267911672592\n",
            "epoch:3 batch=200 loss:0.0862368494272232\n",
            "epoch:3 batch=250 loss:0.08988985419273376\n",
            "epoch:3 batch=300 loss:0.0882851853966713\n",
            "epoch:3 batch=350 loss:0.08906987309455872\n",
            "epoch:3 batch=400 loss:0.09033682197332382\n",
            "epoch:3 loss:0.10839791431740561\n",
            "epoch:4 batch=0 loss:0.08725351095199585\n",
            "epoch:4 batch=50 loss:0.08988281339406967\n",
            "epoch:4 batch=100 loss:0.08303792774677277\n",
            "epoch:4 batch=150 loss:0.08488363772630692\n",
            "epoch:4 batch=200 loss:0.08826984465122223\n",
            "epoch:4 batch=250 loss:0.0912320464849472\n",
            "epoch:4 batch=300 loss:0.08707812428474426\n",
            "epoch:4 batch=350 loss:0.08486702293157578\n",
            "epoch:4 batch=400 loss:0.08485168218612671\n",
            "epoch:4 loss:0.10403589740819276\n"
          ]
        }
      ]
    },
    {
      "cell_type": "code",
      "source": [
        "torch.save(modelfordenoising.state_dict(),'modelforAEdenoising.pth')"
      ],
      "metadata": {
        "id": "Ms4QEcBKsNF2"
      },
      "execution_count": null,
      "outputs": []
    },
    {
      "cell_type": "code",
      "source": [
        "#test1\n",
        "\n",
        "img=testset[9][0].to(device).unsqueeze(0)\n",
        "out=modelfordenoising(img)\n",
        "plt.imshow(out.detach().cpu().squeeze(0)[0,:,:])\n"
      ],
      "metadata": {
        "colab": {
          "base_uri": "https://localhost:8080/",
          "height": 447
        },
        "id": "sB02MNY9cI16",
        "outputId": "48366174-760a-4565-e53e-530072a641cb"
      },
      "execution_count": null,
      "outputs": [
        {
          "output_type": "execute_result",
          "data": {
            "text/plain": [
              "<matplotlib.image.AxesImage at 0x7b9d6e491750>"
            ]
          },
          "metadata": {},
          "execution_count": 25
        },
        {
          "output_type": "display_data",
          "data": {
            "text/plain": [
              "<Figure size 640x480 with 1 Axes>"
            ],
            "image/png": "[encoded data removed]"
          },
          "metadata": {}
        }
      ]
    },
    {
      "cell_type": "code",
      "source": [
        "plt.imshow(img.detach().cpu().squeeze(0,1))"
      ],
      "metadata": {
        "colab": {
          "base_uri": "https://localhost:8080/",
          "height": 447
        },
        "id": "L7E8E3Bqe-2K",
        "outputId": "77b03352-71f2-4c59-9612-5ffd27980771"
      },
      "execution_count": null,
      "outputs": [
        {
          "output_type": "execute_result",
          "data": {
            "text/plain": [
              "<matplotlib.image.AxesImage at 0x7b9d6a257310>"
            ]
          },
          "metadata": {},
          "execution_count": 27
        },
        {
          "output_type": "display_data",
          "data": {
            "text/plain": [
              "<Figure size 640x480 with 1 Axes>"
            ],
            "image/png": "[encoded data removed]"
          },
          "metadata": {}
        }
      ]
    },
    {
      "cell_type": "code",
      "source": [
        "plt.imshow(noiseAdder(img).detach().cpu().squeeze(0,1))"
      ],
      "metadata": {
        "colab": {
          "base_uri": "https://localhost:8080/",
          "height": 447
        },
        "id": "-jp2UqNRve4y",
        "outputId": "b795ce1c-56c1-49db-a75e-dfa56d383271"
      },
      "execution_count": null,
      "outputs": [
        {
          "output_type": "execute_result",
          "data": {
            "text/plain": [
              "<matplotlib.image.AxesImage at 0x7b9d6a2bffd0>"
            ]
          },
          "metadata": {},
          "execution_count": 28
        },
        {
          "output_type": "display_data",
          "data": {
            "text/plain": [
              "<Figure size 640x480 with 1 Axes>"
            ],
            "image/png": "[encoded data removed]"
          },
          "metadata": {}
        }
      ]
    },
    {
      "cell_type": "code",
      "source": [
        "def test(model,test_loader,device=\"cpu\"):\n",
        "  model.eval()\n",
        "  model.to(device)\n",
        "  lossfunc=nn.BCELoss()\n",
        "  lossavg=0\n",
        "\n",
        "  for (bid,(inp,lab)) in enumerate(test_loader):\n",
        "      inp=inp.to(device)\n",
        "\n",
        "      #lab=lab.to(device)\n",
        "      out=model(inp)\n",
        "      loss=lossfunc(out,inp)\n",
        "      lossavg+=loss.item()\n",
        "\n",
        "      print(f\"batch={bid} loss:{loss.item()}\")\n",
        "\n",
        "  print(f\"loss Average:{lossavg/len(test_loader)}\")"
      ],
      "metadata": {
        "id": "xMK7fpiZwZkn"
      },
      "execution_count": null,
      "outputs": []
    },
    {
      "cell_type": "code",
      "source": [
        "testloader=torch.utils.data.DataLoader(testset,batch_size=128,shuffle=False)"
      ],
      "metadata": {
        "id": "f1lVLx2tw3yA"
      },
      "execution_count": null,
      "outputs": []
    },
    {
      "cell_type": "code",
      "source": [
        "test(modelfordenoising,testloader,device=device)"
      ],
      "metadata": {
        "colab": {
          "base_uri": "https://localhost:8080/"
        },
        "id": "FAbyk53wwrnj",
        "outputId": "8e2d8988-ade1-465a-b94f-f2ed8efeab6d"
      },
      "execution_count": null,
      "outputs": [
        {
          "output_type": "stream",
          "name": "stdout",
          "text": [
            "batch=0 loss:0.07897648215293884\n",
            "batch=1 loss:0.08156705647706985\n",
            "batch=2 loss:0.08149605244398117\n",
            "batch=3 loss:0.07886667549610138\n",
            "batch=4 loss:0.07812327891588211\n",
            "batch=5 loss:0.07698731869459152\n",
            "batch=6 loss:0.08353093266487122\n",
            "batch=7 loss:0.0779489204287529\n",
            "batch=8 loss:0.08157207071781158\n",
            "batch=9 loss:0.08255922794342041\n",
            "batch=10 loss:0.07725733518600464\n",
            "batch=11 loss:0.07934218645095825\n",
            "batch=12 loss:0.08061002939939499\n",
            "batch=13 loss:0.08183034509420395\n",
            "batch=14 loss:0.08271840959787369\n",
            "batch=15 loss:0.08191470056772232\n",
            "batch=16 loss:0.08040232211351395\n",
            "batch=17 loss:0.07656125724315643\n",
            "batch=18 loss:0.08024904876947403\n",
            "batch=19 loss:0.08420642465353012\n",
            "batch=20 loss:0.07910696417093277\n",
            "batch=21 loss:0.07929929345846176\n",
            "batch=22 loss:0.07749901711940765\n",
            "batch=23 loss:0.0793386697769165\n",
            "batch=24 loss:0.08047172427177429\n",
            "batch=25 loss:0.0760064646601677\n",
            "batch=26 loss:0.07889101654291153\n",
            "batch=27 loss:0.07983963936567307\n",
            "batch=28 loss:0.07807105779647827\n",
            "batch=29 loss:0.08030199259519577\n",
            "batch=30 loss:0.08022603392601013\n",
            "batch=31 loss:0.08047129958868027\n",
            "batch=32 loss:0.08023930341005325\n",
            "batch=33 loss:0.07817825675010681\n",
            "batch=34 loss:0.07846683263778687\n",
            "batch=35 loss:0.08237915486097336\n",
            "batch=36 loss:0.07997578382492065\n",
            "batch=37 loss:0.07886748760938644\n",
            "batch=38 loss:0.07845747470855713\n",
            "batch=39 loss:0.08059104532003403\n",
            "batch=40 loss:0.07919570058584213\n",
            "batch=41 loss:0.07867532223463058\n",
            "batch=42 loss:0.07722381502389908\n",
            "batch=43 loss:0.08068754523992538\n",
            "batch=44 loss:0.07825309783220291\n",
            "batch=45 loss:0.08248083293437958\n",
            "batch=46 loss:0.07773005962371826\n",
            "loss Average:0.07973712682723999\n"
          ]
        }
      ]
    }
  ]
}